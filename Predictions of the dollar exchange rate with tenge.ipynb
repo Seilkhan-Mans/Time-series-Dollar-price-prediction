{
 "cells": [
  {
   "cell_type": "code",
   "execution_count": 1,
   "metadata": {
    "colab": {
     "base_uri": "https://localhost:8080/"
    },
    "id": "Fapt8MOoueVH",
    "outputId": "9be6ceba-7ba1-4936-f013-f3c8e04931f2"
   },
   "outputs": [
    {
     "name": "stderr",
     "output_type": "stream",
     "text": [
      "/usr/local/lib/python3.7/dist-packages/statsmodels/tools/_testing.py:19: FutureWarning: pandas.util.testing is deprecated. Use the functions in the public API at pandas.testing instead.\n",
      "  import pandas.util.testing as tm\n"
     ]
    }
   ],
   "source": [
    "from pandas import read_csv, DataFrame\n",
    "import statsmodels.api as sm\n",
    "from statsmodels.iolib.table import SimpleTable\n",
    "from sklearn.metrics import r2_score\n",
    "import numpy as np\n",
    "import matplotlib.pyplot as plt"
   ]
  },
  {
   "cell_type": "markdown",
   "metadata": {
    "id": "MBbkTHhbiU3j"
   },
   "source": [
    "We read the dataset using the **read_csv** command from the Pandas library, load it into the dataset variable, and see the original 5 lines of the dataset using the **head** command"
   ]
  },
  {
   "cell_type": "code",
   "execution_count": 3,
   "metadata": {
    "colab": {
     "base_uri": "https://localhost:8080/",
     "height": 506
    },
    "id": "2Nkc06-dvGTc",
    "outputId": "f66c9f90-e471-4fef-a7f3-00036bb52715"
   },
   "outputs": [
    {
     "name": "stderr",
     "output_type": "stream",
     "text": [
      "/usr/local/lib/python3.7/dist-packages/IPython/core/interactiveshell.py:2882: FutureWarning: In a future version of pandas all arguments of read_csv except for the argument 'filepath_or_buffer' will be keyword-only\n",
      "  exec(code_obj, self.user_global_ns, self.user_ns)\n"
     ]
    },
    {
     "data": {
      "text/html": [
       "\n",
       "  <div id=\"df-8d74ee6f-37b2-455c-92db-f0b4e1d31550\">\n",
       "    <div class=\"colab-df-container\">\n",
       "      <div>\n",
       "<style scoped>\n",
       "    .dataframe tbody tr th:only-of-type {\n",
       "        vertical-align: middle;\n",
       "    }\n",
       "\n",
       "    .dataframe tbody tr th {\n",
       "        vertical-align: top;\n",
       "    }\n",
       "\n",
       "    .dataframe thead th {\n",
       "        text-align: right;\n",
       "    }\n",
       "</style>\n",
       "<table border=\"1\" class=\"dataframe\">\n",
       "  <thead>\n",
       "    <tr style=\"text-align: right;\">\n",
       "      <th></th>\n",
       "      <th>Argentine Peso</th>\n",
       "      <th>Australian Dollar</th>\n",
       "      <th>Bahraini Dinar</th>\n",
       "      <th>Botswana Pula</th>\n",
       "      <th>Brazilian Real</th>\n",
       "      <th>Bruneian Dollar</th>\n",
       "      <th>Bulgarian Lev</th>\n",
       "      <th>Canadian Dollar</th>\n",
       "      <th>Chilean Peso</th>\n",
       "      <th>Chinese Yuan Renminbi</th>\n",
       "      <th>...</th>\n",
       "      <th>Sri Lankan Rupee</th>\n",
       "      <th>Swedish Krona</th>\n",
       "      <th>Swiss Franc</th>\n",
       "      <th>Taiwan New Dollar</th>\n",
       "      <th>Thai Baht</th>\n",
       "      <th>Trinidadian Dollar</th>\n",
       "      <th>Turkish Lira</th>\n",
       "      <th>Emirati Dirham</th>\n",
       "      <th>British Pound</th>\n",
       "      <th>Venezuelan Bolivar</th>\n",
       "    </tr>\n",
       "    <tr>\n",
       "      <th>date(y-m-d)</th>\n",
       "      <th></th>\n",
       "      <th></th>\n",
       "      <th></th>\n",
       "      <th></th>\n",
       "      <th></th>\n",
       "      <th></th>\n",
       "      <th></th>\n",
       "      <th></th>\n",
       "      <th></th>\n",
       "      <th></th>\n",
       "      <th></th>\n",
       "      <th></th>\n",
       "      <th></th>\n",
       "      <th></th>\n",
       "      <th></th>\n",
       "      <th></th>\n",
       "      <th></th>\n",
       "      <th></th>\n",
       "      <th></th>\n",
       "      <th></th>\n",
       "      <th></th>\n",
       "    </tr>\n",
       "  </thead>\n",
       "  <tbody>\n",
       "    <tr>\n",
       "      <th>2011-01-01</th>\n",
       "      <td>3.9690</td>\n",
       "      <td>0.977326</td>\n",
       "      <td>0.377050</td>\n",
       "      <td>6.472492</td>\n",
       "      <td>1.659500</td>\n",
       "      <td>1.284500</td>\n",
       "      <td>1.463830</td>\n",
       "      <td>0.997700</td>\n",
       "      <td>467.750000</td>\n",
       "      <td>6.5910</td>\n",
       "      <td>...</td>\n",
       "      <td>110.940002</td>\n",
       "      <td>6.721450</td>\n",
       "      <td>0.934500</td>\n",
       "      <td>29.140000</td>\n",
       "      <td>30.020000</td>\n",
       "      <td>6.34</td>\n",
       "      <td>1.537400</td>\n",
       "      <td>3.67310</td>\n",
       "      <td>0.640553</td>\n",
       "      <td>4.3</td>\n",
       "    </tr>\n",
       "    <tr>\n",
       "      <th>2011-01-02</th>\n",
       "      <td>3.9690</td>\n",
       "      <td>0.977326</td>\n",
       "      <td>0.377050</td>\n",
       "      <td>6.472492</td>\n",
       "      <td>1.659500</td>\n",
       "      <td>1.283500</td>\n",
       "      <td>1.463830</td>\n",
       "      <td>0.997700</td>\n",
       "      <td>467.750000</td>\n",
       "      <td>6.5910</td>\n",
       "      <td>...</td>\n",
       "      <td>110.940002</td>\n",
       "      <td>6.721450</td>\n",
       "      <td>0.933800</td>\n",
       "      <td>29.099001</td>\n",
       "      <td>30.020000</td>\n",
       "      <td>6.34</td>\n",
       "      <td>1.537400</td>\n",
       "      <td>3.67310</td>\n",
       "      <td>0.641067</td>\n",
       "      <td>4.3</td>\n",
       "    </tr>\n",
       "    <tr>\n",
       "      <th>2011-01-03</th>\n",
       "      <td>3.9735</td>\n",
       "      <td>0.980569</td>\n",
       "      <td>0.377055</td>\n",
       "      <td>6.472492</td>\n",
       "      <td>1.646288</td>\n",
       "      <td>1.284367</td>\n",
       "      <td>1.462799</td>\n",
       "      <td>0.990444</td>\n",
       "      <td>465.649994</td>\n",
       "      <td>6.5910</td>\n",
       "      <td>...</td>\n",
       "      <td>110.919998</td>\n",
       "      <td>6.693788</td>\n",
       "      <td>0.933069</td>\n",
       "      <td>29.120000</td>\n",
       "      <td>30.084999</td>\n",
       "      <td>6.39</td>\n",
       "      <td>1.557411</td>\n",
       "      <td>3.67320</td>\n",
       "      <td>0.645615</td>\n",
       "      <td>4.3</td>\n",
       "    </tr>\n",
       "    <tr>\n",
       "      <th>2011-01-04</th>\n",
       "      <td>3.9710</td>\n",
       "      <td>0.995580</td>\n",
       "      <td>0.377060</td>\n",
       "      <td>6.480881</td>\n",
       "      <td>1.666747</td>\n",
       "      <td>1.287438</td>\n",
       "      <td>1.469525</td>\n",
       "      <td>0.999076</td>\n",
       "      <td>487.850006</td>\n",
       "      <td>6.6080</td>\n",
       "      <td>...</td>\n",
       "      <td>110.820000</td>\n",
       "      <td>6.726967</td>\n",
       "      <td>0.947903</td>\n",
       "      <td>29.175004</td>\n",
       "      <td>30.104903</td>\n",
       "      <td>6.36</td>\n",
       "      <td>1.547801</td>\n",
       "      <td>3.67315</td>\n",
       "      <td>0.641558</td>\n",
       "      <td>4.3</td>\n",
       "    </tr>\n",
       "    <tr>\n",
       "      <th>2011-01-05</th>\n",
       "      <td>3.9715</td>\n",
       "      <td>0.999522</td>\n",
       "      <td>0.377050</td>\n",
       "      <td>6.548788</td>\n",
       "      <td>1.670312</td>\n",
       "      <td>1.291450</td>\n",
       "      <td>1.485031</td>\n",
       "      <td>0.994376</td>\n",
       "      <td>495.149993</td>\n",
       "      <td>6.5885</td>\n",
       "      <td>...</td>\n",
       "      <td>110.820000</td>\n",
       "      <td>6.766127</td>\n",
       "      <td>0.964490</td>\n",
       "      <td>29.170000</td>\n",
       "      <td>30.216193</td>\n",
       "      <td>6.38</td>\n",
       "      <td>1.543853</td>\n",
       "      <td>3.67310</td>\n",
       "      <td>0.645308</td>\n",
       "      <td>4.3</td>\n",
       "    </tr>\n",
       "  </tbody>\n",
       "</table>\n",
       "<p>5 rows × 53 columns</p>\n",
       "</div>\n",
       "      <button class=\"colab-df-convert\" onclick=\"convertToInteractive('df-8d74ee6f-37b2-455c-92db-f0b4e1d31550')\"\n",
       "              title=\"Convert this dataframe to an interactive table.\"\n",
       "              style=\"display:none;\">\n",
       "        \n",
       "  <svg xmlns=\"http://www.w3.org/2000/svg\" height=\"24px\"viewBox=\"0 0 24 24\"\n",
       "       width=\"24px\">\n",
       "    <path d=\"M0 0h24v24H0V0z\" fill=\"none\"/>\n",
       "    <path d=\"M18.56 5.44l.94 2.06.94-2.06 2.06-.94-2.06-.94-.94-2.06-.94 2.06-2.06.94zm-11 1L8.5 8.5l.94-2.06 2.06-.94-2.06-.94L8.5 2.5l-.94 2.06-2.06.94zm10 10l.94 2.06.94-2.06 2.06-.94-2.06-.94-.94-2.06-.94 2.06-2.06.94z\"/><path d=\"M17.41 7.96l-1.37-1.37c-.4-.4-.92-.59-1.43-.59-.52 0-1.04.2-1.43.59L10.3 9.45l-7.72 7.72c-.78.78-.78 2.05 0 2.83L4 21.41c.39.39.9.59 1.41.59.51 0 1.02-.2 1.41-.59l7.78-7.78 2.81-2.81c.8-.78.8-2.07 0-2.86zM5.41 20L4 18.59l7.72-7.72 1.47 1.35L5.41 20z\"/>\n",
       "  </svg>\n",
       "      </button>\n",
       "      \n",
       "  <style>\n",
       "    .colab-df-container {\n",
       "      display:flex;\n",
       "      flex-wrap:wrap;\n",
       "      gap: 12px;\n",
       "    }\n",
       "\n",
       "    .colab-df-convert {\n",
       "      background-color: #E8F0FE;\n",
       "      border: none;\n",
       "      border-radius: 50%;\n",
       "      cursor: pointer;\n",
       "      display: none;\n",
       "      fill: #1967D2;\n",
       "      height: 32px;\n",
       "      padding: 0 0 0 0;\n",
       "      width: 32px;\n",
       "    }\n",
       "\n",
       "    .colab-df-convert:hover {\n",
       "      background-color: #E2EBFA;\n",
       "      box-shadow: 0px 1px 2px rgba(60, 64, 67, 0.3), 0px 1px 3px 1px rgba(60, 64, 67, 0.15);\n",
       "      fill: #174EA6;\n",
       "    }\n",
       "\n",
       "    [theme=dark] .colab-df-convert {\n",
       "      background-color: #3B4455;\n",
       "      fill: #D2E3FC;\n",
       "    }\n",
       "\n",
       "    [theme=dark] .colab-df-convert:hover {\n",
       "      background-color: #434B5C;\n",
       "      box-shadow: 0px 1px 3px 1px rgba(0, 0, 0, 0.15);\n",
       "      filter: drop-shadow(0px 1px 2px rgba(0, 0, 0, 0.3));\n",
       "      fill: #FFFFFF;\n",
       "    }\n",
       "  </style>\n",
       "\n",
       "      <script>\n",
       "        const buttonEl =\n",
       "          document.querySelector('#df-8d74ee6f-37b2-455c-92db-f0b4e1d31550 button.colab-df-convert');\n",
       "        buttonEl.style.display =\n",
       "          google.colab.kernel.accessAllowed ? 'block' : 'none';\n",
       "\n",
       "        async function convertToInteractive(key) {\n",
       "          const element = document.querySelector('#df-8d74ee6f-37b2-455c-92db-f0b4e1d31550');\n",
       "          const dataTable =\n",
       "            await google.colab.kernel.invokeFunction('convertToInteractive',\n",
       "                                                     [key], {});\n",
       "          if (!dataTable) return;\n",
       "\n",
       "          const docLinkHtml = 'Like what you see? Visit the ' +\n",
       "            '<a target=\"_blank\" href=https://colab.research.google.com/notebooks/data_table.ipynb>data table notebook</a>'\n",
       "            + ' to learn more about interactive tables.';\n",
       "          element.innerHTML = '';\n",
       "          dataTable['output_type'] = 'display_data';\n",
       "          await google.colab.output.renderOutput(dataTable, element);\n",
       "          const docLink = document.createElement('div');\n",
       "          docLink.innerHTML = docLinkHtml;\n",
       "          element.appendChild(docLink);\n",
       "        }\n",
       "      </script>\n",
       "    </div>\n",
       "  </div>\n",
       "  "
      ],
      "text/plain": [
       "             Argentine Peso  Australian Dollar  Bahraini Dinar  Botswana Pula  \\\n",
       "date(y-m-d)                                                                     \n",
       "2011-01-01           3.9690           0.977326        0.377050       6.472492   \n",
       "2011-01-02           3.9690           0.977326        0.377050       6.472492   \n",
       "2011-01-03           3.9735           0.980569        0.377055       6.472492   \n",
       "2011-01-04           3.9710           0.995580        0.377060       6.480881   \n",
       "2011-01-05           3.9715           0.999522        0.377050       6.548788   \n",
       "\n",
       "             Brazilian Real  Bruneian Dollar  Bulgarian Lev  Canadian Dollar  \\\n",
       "date(y-m-d)                                                                    \n",
       "2011-01-01         1.659500         1.284500       1.463830         0.997700   \n",
       "2011-01-02         1.659500         1.283500       1.463830         0.997700   \n",
       "2011-01-03         1.646288         1.284367       1.462799         0.990444   \n",
       "2011-01-04         1.666747         1.287438       1.469525         0.999076   \n",
       "2011-01-05         1.670312         1.291450       1.485031         0.994376   \n",
       "\n",
       "             Chilean Peso  Chinese Yuan Renminbi  ...  Sri Lankan Rupee  \\\n",
       "date(y-m-d)                                       ...                     \n",
       "2011-01-01     467.750000                 6.5910  ...        110.940002   \n",
       "2011-01-02     467.750000                 6.5910  ...        110.940002   \n",
       "2011-01-03     465.649994                 6.5910  ...        110.919998   \n",
       "2011-01-04     487.850006                 6.6080  ...        110.820000   \n",
       "2011-01-05     495.149993                 6.5885  ...        110.820000   \n",
       "\n",
       "             Swedish Krona  Swiss Franc  Taiwan New Dollar  Thai Baht  \\\n",
       "date(y-m-d)                                                             \n",
       "2011-01-01        6.721450     0.934500          29.140000  30.020000   \n",
       "2011-01-02        6.721450     0.933800          29.099001  30.020000   \n",
       "2011-01-03        6.693788     0.933069          29.120000  30.084999   \n",
       "2011-01-04        6.726967     0.947903          29.175004  30.104903   \n",
       "2011-01-05        6.766127     0.964490          29.170000  30.216193   \n",
       "\n",
       "             Trinidadian Dollar  Turkish Lira  Emirati Dirham  British Pound  \\\n",
       "date(y-m-d)                                                                    \n",
       "2011-01-01                 6.34      1.537400         3.67310       0.640553   \n",
       "2011-01-02                 6.34      1.537400         3.67310       0.641067   \n",
       "2011-01-03                 6.39      1.557411         3.67320       0.645615   \n",
       "2011-01-04                 6.36      1.547801         3.67315       0.641558   \n",
       "2011-01-05                 6.38      1.543853         3.67310       0.645308   \n",
       "\n",
       "             Venezuelan Bolivar  \n",
       "date(y-m-d)                      \n",
       "2011-01-01                  4.3  \n",
       "2011-01-02                  4.3  \n",
       "2011-01-03                  4.3  \n",
       "2011-01-04                  4.3  \n",
       "2011-01-05                  4.3  \n",
       "\n",
       "[5 rows x 53 columns]"
      ]
     },
     "execution_count": 3,
     "metadata": {},
     "output_type": "execute_result"
    }
   ],
   "source": [
    "dataset = read_csv('forex_usd_data.csv',',', index_col=['date(y-m-d)'], parse_dates=['date(y-m-d)'], dayfirst=True)\n",
    "dataset.head()"
   ]
  },
  {
   "cell_type": "markdown",
   "metadata": {
    "id": "24y50Fq9i__M"
   },
   "source": [
    "We use the **tail** command to view the last 5 lines of the dataset"
   ]
  },
  {
   "cell_type": "code",
   "execution_count": 4,
   "metadata": {
    "colab": {
     "base_uri": "https://localhost:8080/",
     "height": 470
    },
    "id": "B1lFuUtRv2z5",
    "outputId": "714bf171-aff6-4268-f704-e7bcf3f65ce4"
   },
   "outputs": [
    {
     "data": {
      "text/html": [
       "\n",
       "  <div id=\"df-cf33c903-356b-4ed1-ac8c-4e12e7c7aa95\">\n",
       "    <div class=\"colab-df-container\">\n",
       "      <div>\n",
       "<style scoped>\n",
       "    .dataframe tbody tr th:only-of-type {\n",
       "        vertical-align: middle;\n",
       "    }\n",
       "\n",
       "    .dataframe tbody tr th {\n",
       "        vertical-align: top;\n",
       "    }\n",
       "\n",
       "    .dataframe thead th {\n",
       "        text-align: right;\n",
       "    }\n",
       "</style>\n",
       "<table border=\"1\" class=\"dataframe\">\n",
       "  <thead>\n",
       "    <tr style=\"text-align: right;\">\n",
       "      <th></th>\n",
       "      <th>Argentine Peso</th>\n",
       "      <th>Australian Dollar</th>\n",
       "      <th>Bahraini Dinar</th>\n",
       "      <th>Botswana Pula</th>\n",
       "      <th>Brazilian Real</th>\n",
       "      <th>Bruneian Dollar</th>\n",
       "      <th>Bulgarian Lev</th>\n",
       "      <th>Canadian Dollar</th>\n",
       "      <th>Chilean Peso</th>\n",
       "      <th>Chinese Yuan Renminbi</th>\n",
       "      <th>...</th>\n",
       "      <th>Sri Lankan Rupee</th>\n",
       "      <th>Swedish Krona</th>\n",
       "      <th>Swiss Franc</th>\n",
       "      <th>Taiwan New Dollar</th>\n",
       "      <th>Thai Baht</th>\n",
       "      <th>Trinidadian Dollar</th>\n",
       "      <th>Turkish Lira</th>\n",
       "      <th>Emirati Dirham</th>\n",
       "      <th>British Pound</th>\n",
       "      <th>Venezuelan Bolivar</th>\n",
       "    </tr>\n",
       "    <tr>\n",
       "      <th>date(y-m-d)</th>\n",
       "      <th></th>\n",
       "      <th></th>\n",
       "      <th></th>\n",
       "      <th></th>\n",
       "      <th></th>\n",
       "      <th></th>\n",
       "      <th></th>\n",
       "      <th></th>\n",
       "      <th></th>\n",
       "      <th></th>\n",
       "      <th></th>\n",
       "      <th></th>\n",
       "      <th></th>\n",
       "      <th></th>\n",
       "      <th></th>\n",
       "      <th></th>\n",
       "      <th></th>\n",
       "      <th></th>\n",
       "      <th></th>\n",
       "      <th></th>\n",
       "      <th></th>\n",
       "    </tr>\n",
       "  </thead>\n",
       "  <tbody>\n",
       "    <tr>\n",
       "      <th>2021-09-26</th>\n",
       "      <td>98.596130</td>\n",
       "      <td>1.376780</td>\n",
       "      <td>0.376</td>\n",
       "      <td>11.146615</td>\n",
       "      <td>5.335950</td>\n",
       "      <td>1.353748</td>\n",
       "      <td>1.668693</td>\n",
       "      <td>1.265426</td>\n",
       "      <td>792.874422</td>\n",
       "      <td>6.466564</td>\n",
       "      <td>...</td>\n",
       "      <td>199.729819</td>\n",
       "      <td>8.652500</td>\n",
       "      <td>0.923508</td>\n",
       "      <td>27.784851</td>\n",
       "      <td>33.455482</td>\n",
       "      <td>6.796675</td>\n",
       "      <td>8.879794</td>\n",
       "      <td>3.6725</td>\n",
       "      <td>0.730833</td>\n",
       "      <td>4.037413e+11</td>\n",
       "    </tr>\n",
       "    <tr>\n",
       "      <th>2021-09-27</th>\n",
       "      <td>98.665631</td>\n",
       "      <td>1.372968</td>\n",
       "      <td>0.376</td>\n",
       "      <td>11.146657</td>\n",
       "      <td>5.355233</td>\n",
       "      <td>1.353849</td>\n",
       "      <td>1.671272</td>\n",
       "      <td>1.264472</td>\n",
       "      <td>793.844825</td>\n",
       "      <td>6.457578</td>\n",
       "      <td>...</td>\n",
       "      <td>200.023988</td>\n",
       "      <td>8.705795</td>\n",
       "      <td>0.925563</td>\n",
       "      <td>27.717801</td>\n",
       "      <td>33.577771</td>\n",
       "      <td>6.795261</td>\n",
       "      <td>8.822537</td>\n",
       "      <td>3.6725</td>\n",
       "      <td>0.729314</td>\n",
       "      <td>4.095173e+11</td>\n",
       "    </tr>\n",
       "    <tr>\n",
       "      <th>2021-09-28</th>\n",
       "      <td>98.674155</td>\n",
       "      <td>1.381914</td>\n",
       "      <td>0.376</td>\n",
       "      <td>11.146673</td>\n",
       "      <td>5.428542</td>\n",
       "      <td>1.357311</td>\n",
       "      <td>1.674269</td>\n",
       "      <td>1.269373</td>\n",
       "      <td>800.776625</td>\n",
       "      <td>6.460886</td>\n",
       "      <td>...</td>\n",
       "      <td>199.748422</td>\n",
       "      <td>8.731192</td>\n",
       "      <td>0.928344</td>\n",
       "      <td>27.782899</td>\n",
       "      <td>33.856132</td>\n",
       "      <td>6.791486</td>\n",
       "      <td>8.882934</td>\n",
       "      <td>3.6725</td>\n",
       "      <td>0.738800</td>\n",
       "      <td>4.191933e+11</td>\n",
       "    </tr>\n",
       "    <tr>\n",
       "      <th>2021-09-29</th>\n",
       "      <td>98.706016</td>\n",
       "      <td>1.390954</td>\n",
       "      <td>0.376</td>\n",
       "      <td>11.146754</td>\n",
       "      <td>5.406149</td>\n",
       "      <td>1.360433</td>\n",
       "      <td>1.684239</td>\n",
       "      <td>1.274953</td>\n",
       "      <td>805.680213</td>\n",
       "      <td>6.470947</td>\n",
       "      <td>...</td>\n",
       "      <td>199.775029</td>\n",
       "      <td>8.787677</td>\n",
       "      <td>0.933490</td>\n",
       "      <td>27.838824</td>\n",
       "      <td>33.955285</td>\n",
       "      <td>6.791087</td>\n",
       "      <td>8.892252</td>\n",
       "      <td>3.6725</td>\n",
       "      <td>0.744258</td>\n",
       "      <td>4.115676e+11</td>\n",
       "    </tr>\n",
       "    <tr>\n",
       "      <th>2021-09-30</th>\n",
       "      <td>98.736445</td>\n",
       "      <td>1.383440</td>\n",
       "      <td>0.376</td>\n",
       "      <td>11.311807</td>\n",
       "      <td>5.448215</td>\n",
       "      <td>1.358174</td>\n",
       "      <td>1.689414</td>\n",
       "      <td>1.267304</td>\n",
       "      <td>809.029363</td>\n",
       "      <td>6.446639</td>\n",
       "      <td>...</td>\n",
       "      <td>199.765848</td>\n",
       "      <td>8.759269</td>\n",
       "      <td>0.933964</td>\n",
       "      <td>27.842308</td>\n",
       "      <td>33.657387</td>\n",
       "      <td>6.791447</td>\n",
       "      <td>8.889614</td>\n",
       "      <td>3.6725</td>\n",
       "      <td>0.742524</td>\n",
       "      <td>4.191044e+11</td>\n",
       "    </tr>\n",
       "  </tbody>\n",
       "</table>\n",
       "<p>5 rows × 53 columns</p>\n",
       "</div>\n",
       "      <button class=\"colab-df-convert\" onclick=\"convertToInteractive('df-cf33c903-356b-4ed1-ac8c-4e12e7c7aa95')\"\n",
       "              title=\"Convert this dataframe to an interactive table.\"\n",
       "              style=\"display:none;\">\n",
       "        \n",
       "  <svg xmlns=\"http://www.w3.org/2000/svg\" height=\"24px\"viewBox=\"0 0 24 24\"\n",
       "       width=\"24px\">\n",
       "    <path d=\"M0 0h24v24H0V0z\" fill=\"none\"/>\n",
       "    <path d=\"M18.56 5.44l.94 2.06.94-2.06 2.06-.94-2.06-.94-.94-2.06-.94 2.06-2.06.94zm-11 1L8.5 8.5l.94-2.06 2.06-.94-2.06-.94L8.5 2.5l-.94 2.06-2.06.94zm10 10l.94 2.06.94-2.06 2.06-.94-2.06-.94-.94-2.06-.94 2.06-2.06.94z\"/><path d=\"M17.41 7.96l-1.37-1.37c-.4-.4-.92-.59-1.43-.59-.52 0-1.04.2-1.43.59L10.3 9.45l-7.72 7.72c-.78.78-.78 2.05 0 2.83L4 21.41c.39.39.9.59 1.41.59.51 0 1.02-.2 1.41-.59l7.78-7.78 2.81-2.81c.8-.78.8-2.07 0-2.86zM5.41 20L4 18.59l7.72-7.72 1.47 1.35L5.41 20z\"/>\n",
       "  </svg>\n",
       "      </button>\n",
       "      \n",
       "  <style>\n",
       "    .colab-df-container {\n",
       "      display:flex;\n",
       "      flex-wrap:wrap;\n",
       "      gap: 12px;\n",
       "    }\n",
       "\n",
       "    .colab-df-convert {\n",
       "      background-color: #E8F0FE;\n",
       "      border: none;\n",
       "      border-radius: 50%;\n",
       "      cursor: pointer;\n",
       "      display: none;\n",
       "      fill: #1967D2;\n",
       "      height: 32px;\n",
       "      padding: 0 0 0 0;\n",
       "      width: 32px;\n",
       "    }\n",
       "\n",
       "    .colab-df-convert:hover {\n",
       "      background-color: #E2EBFA;\n",
       "      box-shadow: 0px 1px 2px rgba(60, 64, 67, 0.3), 0px 1px 3px 1px rgba(60, 64, 67, 0.15);\n",
       "      fill: #174EA6;\n",
       "    }\n",
       "\n",
       "    [theme=dark] .colab-df-convert {\n",
       "      background-color: #3B4455;\n",
       "      fill: #D2E3FC;\n",
       "    }\n",
       "\n",
       "    [theme=dark] .colab-df-convert:hover {\n",
       "      background-color: #434B5C;\n",
       "      box-shadow: 0px 1px 3px 1px rgba(0, 0, 0, 0.15);\n",
       "      filter: drop-shadow(0px 1px 2px rgba(0, 0, 0, 0.3));\n",
       "      fill: #FFFFFF;\n",
       "    }\n",
       "  </style>\n",
       "\n",
       "      <script>\n",
       "        const buttonEl =\n",
       "          document.querySelector('#df-cf33c903-356b-4ed1-ac8c-4e12e7c7aa95 button.colab-df-convert');\n",
       "        buttonEl.style.display =\n",
       "          google.colab.kernel.accessAllowed ? 'block' : 'none';\n",
       "\n",
       "        async function convertToInteractive(key) {\n",
       "          const element = document.querySelector('#df-cf33c903-356b-4ed1-ac8c-4e12e7c7aa95');\n",
       "          const dataTable =\n",
       "            await google.colab.kernel.invokeFunction('convertToInteractive',\n",
       "                                                     [key], {});\n",
       "          if (!dataTable) return;\n",
       "\n",
       "          const docLinkHtml = 'Like what you see? Visit the ' +\n",
       "            '<a target=\"_blank\" href=https://colab.research.google.com/notebooks/data_table.ipynb>data table notebook</a>'\n",
       "            + ' to learn more about interactive tables.';\n",
       "          element.innerHTML = '';\n",
       "          dataTable['output_type'] = 'display_data';\n",
       "          await google.colab.output.renderOutput(dataTable, element);\n",
       "          const docLink = document.createElement('div');\n",
       "          docLink.innerHTML = docLinkHtml;\n",
       "          element.appendChild(docLink);\n",
       "        }\n",
       "      </script>\n",
       "    </div>\n",
       "  </div>\n",
       "  "
      ],
      "text/plain": [
       "             Argentine Peso  Australian Dollar  Bahraini Dinar  Botswana Pula  \\\n",
       "date(y-m-d)                                                                     \n",
       "2021-09-26        98.596130           1.376780           0.376      11.146615   \n",
       "2021-09-27        98.665631           1.372968           0.376      11.146657   \n",
       "2021-09-28        98.674155           1.381914           0.376      11.146673   \n",
       "2021-09-29        98.706016           1.390954           0.376      11.146754   \n",
       "2021-09-30        98.736445           1.383440           0.376      11.311807   \n",
       "\n",
       "             Brazilian Real  Bruneian Dollar  Bulgarian Lev  Canadian Dollar  \\\n",
       "date(y-m-d)                                                                    \n",
       "2021-09-26         5.335950         1.353748       1.668693         1.265426   \n",
       "2021-09-27         5.355233         1.353849       1.671272         1.264472   \n",
       "2021-09-28         5.428542         1.357311       1.674269         1.269373   \n",
       "2021-09-29         5.406149         1.360433       1.684239         1.274953   \n",
       "2021-09-30         5.448215         1.358174       1.689414         1.267304   \n",
       "\n",
       "             Chilean Peso  Chinese Yuan Renminbi  ...  Sri Lankan Rupee  \\\n",
       "date(y-m-d)                                       ...                     \n",
       "2021-09-26     792.874422               6.466564  ...        199.729819   \n",
       "2021-09-27     793.844825               6.457578  ...        200.023988   \n",
       "2021-09-28     800.776625               6.460886  ...        199.748422   \n",
       "2021-09-29     805.680213               6.470947  ...        199.775029   \n",
       "2021-09-30     809.029363               6.446639  ...        199.765848   \n",
       "\n",
       "             Swedish Krona  Swiss Franc  Taiwan New Dollar  Thai Baht  \\\n",
       "date(y-m-d)                                                             \n",
       "2021-09-26        8.652500     0.923508          27.784851  33.455482   \n",
       "2021-09-27        8.705795     0.925563          27.717801  33.577771   \n",
       "2021-09-28        8.731192     0.928344          27.782899  33.856132   \n",
       "2021-09-29        8.787677     0.933490          27.838824  33.955285   \n",
       "2021-09-30        8.759269     0.933964          27.842308  33.657387   \n",
       "\n",
       "             Trinidadian Dollar  Turkish Lira  Emirati Dirham  British Pound  \\\n",
       "date(y-m-d)                                                                    \n",
       "2021-09-26             6.796675      8.879794          3.6725       0.730833   \n",
       "2021-09-27             6.795261      8.822537          3.6725       0.729314   \n",
       "2021-09-28             6.791486      8.882934          3.6725       0.738800   \n",
       "2021-09-29             6.791087      8.892252          3.6725       0.744258   \n",
       "2021-09-30             6.791447      8.889614          3.6725       0.742524   \n",
       "\n",
       "             Venezuelan Bolivar  \n",
       "date(y-m-d)                      \n",
       "2021-09-26         4.037413e+11  \n",
       "2021-09-27         4.095173e+11  \n",
       "2021-09-28         4.191933e+11  \n",
       "2021-09-29         4.115676e+11  \n",
       "2021-09-30         4.191044e+11  \n",
       "\n",
       "[5 rows x 53 columns]"
      ]
     },
     "execution_count": 4,
     "metadata": {},
     "output_type": "execute_result"
    }
   ],
   "source": [
    "dataset.tail()"
   ]
  },
  {
   "cell_type": "markdown",
   "metadata": {
    "id": "IE-uLHGFjVGl"
   },
   "source": [
    "**using the** columns command, we can see the dataset columns, which means that we can find out what currencies are in dataset other than tenge"
   ]
  },
  {
   "cell_type": "code",
   "execution_count": 5,
   "metadata": {
    "colab": {
     "base_uri": "https://localhost:8080/"
    },
    "id": "0leCzRc4wHhJ",
    "outputId": "a1df5073-c6f8-443c-a321-82f3130a22d2"
   },
   "outputs": [
    {
     "data": {
      "text/plain": [
       "Index(['Argentine Peso', 'Australian Dollar', 'Bahraini Dinar',\n",
       "       'Botswana Pula', 'Brazilian Real', 'Bruneian Dollar', 'Bulgarian Lev',\n",
       "       'Canadian Dollar', 'Chilean Peso', 'Chinese Yuan Renminbi',\n",
       "       'Colombian Peso', 'Croatian Kuna', 'Czech Koruna', 'Danish Krone',\n",
       "       'Euro', 'Hong Kong Dollar', 'Hungarian Forint', 'Icelandic Krona',\n",
       "       'Indian Rupee', 'Indonesian Rupiah', 'Iranian Rial', 'Israeli Shekel',\n",
       "       'Japanese Yen', 'Kazakhstani Tenge', 'South Korean Won',\n",
       "       'Kuwaiti Dinar', 'Libyan Dinar', 'Malaysian Ringgit', 'Mauritian Rupee',\n",
       "       'Mexican Peso', 'Nepalese Rupee', 'New Zealand Dollar',\n",
       "       'Norwegian Krone', 'Omani Rial', 'Pakistani Rupee', 'Philippine Peso',\n",
       "       'Polish Zloty', 'Qatari Riyal', 'Romanian New Leu', 'Russian Ruble',\n",
       "       'Saudi Arabian Riyal', 'Singapore Dollar', 'South African Rand',\n",
       "       'Sri Lankan Rupee', 'Swedish Krona', 'Swiss Franc', 'Taiwan New Dollar',\n",
       "       'Thai Baht', 'Trinidadian Dollar', 'Turkish Lira', 'Emirati Dirham',\n",
       "       'British Pound', 'Venezuelan Bolivar'],\n",
       "      dtype='object')"
      ]
     },
     "execution_count": 5,
     "metadata": {},
     "output_type": "execute_result"
    }
   ],
   "source": [
    "dataset.columns"
   ]
  },
  {
   "cell_type": "markdown",
   "metadata": {
    "id": "DS2709C5jutd"
   },
   "source": [
    "We assign the desired currency to the variable **df** "
   ]
  },
  {
   "cell_type": "code",
   "execution_count": 6,
   "metadata": {
    "colab": {
     "base_uri": "https://localhost:8080/"
    },
    "id": "FxfW9ENjwJYl",
    "outputId": "bee91984-f851-4a1d-ddfe-50064024a5fd"
   },
   "outputs": [
    {
     "data": {
      "text/plain": [
       "date(y-m-d)\n",
       "2011-01-01    147.300003\n",
       "2011-01-02    147.300003\n",
       "2011-01-03    147.325012\n",
       "2011-01-04    147.320007\n",
       "2011-01-05    147.075012\n",
       "Name: Kazakhstani Tenge, dtype: float64"
      ]
     },
     "execution_count": 6,
     "metadata": {},
     "output_type": "execute_result"
    }
   ],
   "source": [
    "df=dataset['Kazakhstani Tenge']\n",
    "df.head()"
   ]
  },
  {
   "cell_type": "markdown",
   "metadata": {
    "id": "OObHJ_Oqj6Q1"
   },
   "source": [
    "through the **plot** team of the matplotlib library, we can track changes in tenge in 2011 and 2021"
   ]
  },
  {
   "cell_type": "code",
   "execution_count": 7,
   "metadata": {
    "colab": {
     "base_uri": "https://localhost:8080/",
     "height": 406
    },
    "id": "88NmfucswLGH",
    "outputId": "a41da495-19a6-436e-8bbc-6b1fe841c440"
   },
   "outputs": [
    {
     "data": {
      "text/plain": [
       "<matplotlib.axes._subplots.AxesSubplot at 0x7ffa9064af90>"
      ]
     },
     "execution_count": 7,
     "metadata": {},
     "output_type": "execute_result"
    },
    {
     "data": {
      "image/png": "[encoded data removed]",
      "text/plain": [
       "<Figure size 864x432 with 1 Axes>"
      ]
     },
     "metadata": {
      "needs_background": "light"
     },
     "output_type": "display_data"
    }
   ],
   "source": [
    "df.plot(figsize=(12,6))"
   ]
  },
  {
   "cell_type": "markdown",
   "metadata": {
    "id": "GFiRKKuWk6to"
   },
   "source": [
    "using **describe** and **hist**, we produce histograms with a statistical value of the dataset"
   ]
  },
  {
   "cell_type": "code",
   "execution_count": 8,
   "metadata": {
    "colab": {
     "base_uri": "https://localhost:8080/",
     "height": 429
    },
    "id": "22nFJ1vswNd1",
    "outputId": "adb87044-ed43-4838-dfdf-f393cb437b0c"
   },
   "outputs": [
    {
     "data": {
      "text/plain": [
       "count    3926.000000\n",
       "mean      277.522980\n",
       "std       108.255048\n",
       "min       145.174988\n",
       "25%       153.282223\n",
       "50%       320.785004\n",
       "75%       376.770561\n",
       "max      1058.500000\n",
       "Name: Kazakhstani Tenge, dtype: float64"
      ]
     },
     "execution_count": 8,
     "metadata": {},
     "output_type": "execute_result"
    },
    {
     "data": {
      "image/png": "[encoded data removed]",
      "text/plain": [
       "<Figure size 432x288 with 1 Axes>"
      ]
     },
     "metadata": {
      "needs_background": "light"
     },
     "output_type": "display_data"
    }
   ],
   "source": [
    "itog = df.describe()\n",
    "df.hist()\n",
    "itog"
   ]
  },
  {
   "cell_type": "markdown",
   "metadata": {
    "id": "Szv4GzrhlrIE"
   },
   "source": [
    "We use the variance coefficient to find out whether the distribution is homogeneous or inhomogeneous. In statistics, if the coefficient of variation is higher than 33%, the distribution indicates that it is not homogeneous. $\\sigma$ - standard deviation, $k$ - expectation."
   ]
  },
  {
   "cell_type": "markdown",
   "metadata": {
    "id": "_-RtnTi8l5OG"
   },
   "source": [
    "\\begin{equation}\n",
    " CV = ( \\sigma / k ) * 100 \n",
    "\\end{equation}"
   ]
  },
  {
   "cell_type": "code",
   "execution_count": 9,
   "metadata": {
    "colab": {
     "base_uri": "https://localhost:8080/"
    },
    "id": "hNc1E0fvwQST",
    "outputId": "9a013156-a7ed-4464-f90b-3ec7ced46e12"
   },
   "outputs": [
    {
     "name": "stdout",
     "output_type": "stream",
     "text": [
      "V = 0.390076\n"
     ]
    }
   ],
   "source": [
    "print ('V = %f' % (itog['std']/itog['mean']))"
   ]
  },
  {
   "cell_type": "markdown",
   "metadata": {
    "id": "tt7SZxyWmT9F"
   },
   "source": [
    "To find out if the dataset is a Gaussian (normal) distribution, we perform the Harkey-Bera test."
   ]
  },
  {
   "cell_type": "code",
   "execution_count": 10,
   "metadata": {
    "colab": {
     "base_uri": "https://localhost:8080/"
    },
    "id": "KwB_Yf1YwSAF",
    "outputId": "c1b35825-41fb-4d74-e1f1-fe64e30d309e"
   },
   "outputs": [
    {
     "name": "stdout",
     "output_type": "stream",
     "text": [
      "=============================================================================\n",
      "        JB                p-value                skew            kurtosis    \n",
      "-----------------------------------------------------------------------------\n",
      "32.429101620712096 9.080506142232988e-08 0.13755561524275914 2.64992015307982\n",
      "-----------------------------------------------------------------------------\n"
     ]
    }
   ],
   "source": [
    "row =  [u'JB', u'p-value', u'skew', u'kurtosis']\n",
    "jb_test = sm.stats.stattools.jarque_bera(df)\n",
    "a = np.vstack([jb_test])\n",
    "itog = SimpleTable(a, row)\n",
    "print(itog)"
   ]
  },
  {
   "cell_type": "markdown",
   "metadata": {
    "id": "oGof-WBrq_Fw"
   },
   "source": [
    "Looking at the result, we can say that the distribution is not a Gaussian distribution, because p-value\n",
    "(probability>0.05)"
   ]
  },
  {
   "cell_type": "markdown",
   "metadata": {
    "id": "zLQ82fGvq_Pu"
   },
   "source": [
    "Many algorithms are based on the stationary nature of the time census. In order to test this, we will conduct a Dickey-Fuller test. The rest is based on finding a unit root (single root test). Unit root is a property found in some non-stationary time censuses"
   ]
  },
  {
   "cell_type": "code",
   "execution_count": 11,
   "metadata": {
    "colab": {
     "base_uri": "https://localhost:8080/"
    },
    "id": "uCV6n361wUKi",
    "outputId": "0598e98c-632d-42eb-9ec9-4ae3e0604565"
   },
   "outputs": [
    {
     "name": "stdout",
     "output_type": "stream",
     "text": [
      "adf:  -0.5890221351509323\n",
      "p-value:  0.8734433301209854\n",
      "Critical values:  {'1%': -3.4320291410434756, '5%': -2.862281952556662, '10%': -2.567164950169587}\n",
      "бірлік түбір бар, санақ стационарлы емес\n"
     ]
    }
   ],
   "source": [
    "test = sm.tsa.adfuller(df)\n",
    "print('adf: ', test[0]) \n",
    "print ('p-value: ', test[1])\n",
    "print('Critical values: ', test[4])\n",
    "if test[0]> test[4]['5%']: \n",
    "    print('бірлік түбір бар, санақ стационарлы емес')\n",
    "else:\n",
    "    print('бірлік түбір жоқ, санақ стационарлы')"
   ]
  },
  {
   "cell_type": "markdown",
   "metadata": {
    "id": "QWNF8BtIrVFB"
   },
   "source": [
    "In many cases, the series can be converted into a stationary series by getting the difference between the series"
   ]
  },
  {
   "cell_type": "code",
   "execution_count": 12,
   "metadata": {
    "id": "pQo7EBaGwXlX"
   },
   "outputs": [],
   "source": [
    "otg1diff = df.diff(periods=1).dropna()"
   ]
  },
  {
   "cell_type": "markdown",
   "metadata": {
    "id": "SVfZmgf3rX9v"
   },
   "source": [
    "the diff () function calculates the difference of the original series along with the offset of a given period. The replacement period is set as the period parameter. Since the first value is unknown in the difference, we need to get rid of it and use the dropna () method."
   ]
  },
  {
   "cell_type": "code",
   "execution_count": 13,
   "metadata": {
    "colab": {
     "base_uri": "https://localhost:8080/"
    },
    "id": "AcED8C6KwaYH",
    "outputId": "3879dde2-d3be-4d2e-db03-df600b733ad0"
   },
   "outputs": [
    {
     "name": "stdout",
     "output_type": "stream",
     "text": [
      "adf:  -17.976031462484226\n",
      "p-value:  2.785154738111301e-30\n",
      "Critical values:  {'1%': -3.4320291410434756, '5%': -2.862281952556662, '10%': -2.567164950169587}\n",
      "бірлік түбір жоқ, санақ стационарлы\n"
     ]
    }
   ],
   "source": [
    "test = sm.tsa.adfuller(otg1diff)\n",
    "print ('adf: ', test[0])\n",
    "print ('p-value: ', test[1])\n",
    "print('Critical values: ', test[4])\n",
    "if test[0]> test[4]['5%']: \n",
    "    print('бірлік түбір бар, санақ стационарлы емес')\n",
    "else:\n",
    "    print('бірлік түбір жоқ, санақ стационарлы')"
   ]
  },
  {
   "cell_type": "markdown",
   "metadata": {
    "id": "H5nJLgRdrenH"
   },
   "source": [
    "In order to make sure that the series is stationary, we divide the series into two parts and compare the care of each math expectation"
   ]
  },
  {
   "cell_type": "code",
   "execution_count": 14,
   "metadata": {
    "colab": {
     "base_uri": "https://localhost:8080/"
    },
    "id": "QgUVXqn9wclS",
    "outputId": "b45e4638-455c-400f-80d0-5865691b8e0f"
   },
   "outputs": [
    {
     "name": "stdout",
     "output_type": "stream",
     "text": [
      "p-value:  0.9471053594538399\n"
     ]
    }
   ],
   "source": [
    "m = otg1diff.index[len(otg1diff.index)//2+1]\n",
    "r1 = sm.stats.DescrStatsW(otg1diff[m:])\n",
    "r2 = sm.stats.DescrStatsW(otg1diff[:m])\n",
    "print('p-value: ', sm.stats.CompareMeans(r1,r2).ttest_ind()[1])"
   ]
  },
  {
   "cell_type": "markdown",
   "metadata": {
    "id": "7UDbuhFernvA"
   },
   "source": [
    "Since the probability of origin is high, we can find out that the zero hypothesis is correct, which means that the series is stationary. We will create a new graphic to make sure"
   ]
  },
  {
   "cell_type": "code",
   "execution_count": 15,
   "metadata": {
    "colab": {
     "base_uri": "https://localhost:8080/",
     "height": 732
    },
    "id": "u9LABRuNwegZ",
    "outputId": "baa7e9d9-2f2d-4a91-b2c0-fc159b5c0c39"
   },
   "outputs": [
    {
     "data": {
      "text/plain": [
       "<matplotlib.axes._subplots.AxesSubplot at 0x7ffa8ff9a2d0>"
      ]
     },
     "execution_count": 15,
     "metadata": {},
     "output_type": "execute_result"
    },
    {
     "data": {
      "image/png": "[encoded data removed]",
      "text/plain": [
       "<Figure size 1728x864 with 1 Axes>"
      ]
     },
     "metadata": {
      "needs_background": "light"
     },
     "output_type": "display_data"
    }
   ],
   "source": [
    "otg1diff[1600:].plot(figsize=(24,12))"
   ]
  },
  {
   "cell_type": "markdown",
   "metadata": {
    "id": "yO_gKpGwrzF8"
   },
   "source": [
    "# **SARIMA**"
   ]
  },
  {
   "cell_type": "markdown",
   "metadata": {
    "id": "oiwvOtlsr6c-"
   },
   "source": [
    "Before applying the SARIMA model, it is necessary to determine the values of hyperparameters. The SARIMA model has 6 hyperparameters"
   ]
  },
  {
   "cell_type": "code",
   "execution_count": 16,
   "metadata": {
    "colab": {
     "base_uri": "https://localhost:8080/",
     "height": 680
    },
    "id": "dXbXPl_IwhDt",
    "outputId": "5398db4e-b5be-449f-94c7-430441f0e430"
   },
   "outputs": [
    {
     "data": {
      "image/png": "[encoded data removed]",
      "text/plain": [
       "<Figure size 1080x792 with 2 Axes>"
      ]
     },
     "metadata": {
      "needs_background": "light"
     },
     "output_type": "display_data"
    },
    {
     "data": {
      "text/plain": [
       "<Figure size 1080x792 with 0 Axes>"
      ]
     },
     "metadata": {},
     "output_type": "display_data"
    }
   ],
   "source": [
    "fig=plt.figure(figsize=(15,11))\n",
    "ig = plt.figure(figsize=(15,11))\n",
    "ax1 = fig.add_subplot(211)\n",
    "fig = sm.graphics.tsa.plot_acf(otg1diff.values.squeeze(), lags=25, ax=ax1)\n",
    "ax2 = fig.add_subplot(212)\n",
    "fig = sm.graphics.tsa.plot_pacf(otg1diff, lags=25, ax=ax2)"
   ]
  },
  {
   "cell_type": "markdown",
   "metadata": {
    "id": "PSOCbg4jscfa"
   },
   "source": [
    "I assign to the src_data_model variable the value of the dataset in dollars as of 01.09.2021 and also train the SARIMA model"
   ]
  },
  {
   "cell_type": "code",
   "execution_count": 17,
   "metadata": {
    "id": "mh6cGc8awjWx"
   },
   "outputs": [],
   "source": [
    "src_data_model = df[:'2021-09-01']\n",
    "model = sm.tsa.SARIMAX(src_data_model, order=(1,1,1), freq='D').fit(full_output=False, disp=0)"
   ]
  },
  {
   "cell_type": "code",
   "execution_count": 18,
   "metadata": {
    "id": "JcNlv8YhwqNT"
   },
   "outputs": [],
   "source": [
    "pred = model.predict('2021-09-01','2021-09-30', typ='levels')\n",
    "y_true = df['2021-09-01':'2021-09-30']"
   ]
  },
  {
   "cell_type": "code",
   "execution_count": 19,
   "metadata": {
    "id": "NSxKDPEewuHl"
   },
   "outputs": [],
   "source": [
    "from sklearn.metrics import mean_squared_error, mean_absolute_error, r2_score"
   ]
  },
  {
   "cell_type": "code",
   "execution_count": 20,
   "metadata": {
    "colab": {
     "base_uri": "https://localhost:8080/"
    },
    "id": "oPhvR272wwLO",
    "outputId": "4ea09b5c-a220-41cb-a356-dab6e8a2e03a"
   },
   "outputs": [
    {
     "name": "stdout",
     "output_type": "stream",
     "text": [
      "MSE: 0.32753725481717133\n"
     ]
    }
   ],
   "source": [
    "print('MSE:', mean_squared_error(y_true,pred[0:30]))"
   ]
  },
  {
   "cell_type": "code",
   "execution_count": 21,
   "metadata": {
    "colab": {
     "base_uri": "https://localhost:8080/"
    },
    "id": "GGz83y9-wxW3",
    "outputId": "e7ee23d2-cbe8-423e-9356-f7e7d795ea89"
   },
   "outputs": [
    {
     "name": "stdout",
     "output_type": "stream",
     "text": [
      "MAE: 0.5171340681658307\n"
     ]
    }
   ],
   "source": [
    "print('MAE:', mean_absolute_error(y_true,pred[0:30]))"
   ]
  },
  {
   "cell_type": "code",
   "execution_count": 22,
   "metadata": {
    "colab": {
     "base_uri": "https://localhost:8080/"
    },
    "id": "Y1Pv__19wz0t",
    "outputId": "8e63304a-020b-40c1-920e-accfea63fa45"
   },
   "outputs": [
    {
     "name": "stdout",
     "output_type": "stream",
     "text": [
      "RMSE: 0.5723087058722516\n"
     ]
    }
   ],
   "source": [
    "import math\n",
    "print('RMSE:', math.sqrt(mean_squared_error(y_true,pred[0:30])))"
   ]
  },
  {
   "cell_type": "code",
   "execution_count": 23,
   "metadata": {
    "id": "q8lDCVa0w4mn"
   },
   "outputs": [],
   "source": [
    "pl=df[3896:3926]"
   ]
  },
  {
   "cell_type": "code",
   "execution_count": 24,
   "metadata": {
    "colab": {
     "base_uri": "https://localhost:8080/",
     "height": 441
    },
    "id": "st4q7zptw7fF",
    "outputId": "f243264e-3966-42f8-d3b8-b26539765a15"
   },
   "outputs": [
    {
     "data": {
      "text/plain": [
       "<matplotlib.axes._subplots.AxesSubplot at 0x7ffa8d5ad2d0>"
      ]
     },
     "execution_count": 24,
     "metadata": {},
     "output_type": "execute_result"
    },
    {
     "data": {
      "image/png": "[encoded data removed]",
      "text/plain": [
       "<Figure size 864x432 with 1 Axes>"
      ]
     },
     "metadata": {
      "needs_background": "light"
     },
     "output_type": "display_data"
    }
   ],
   "source": [
    "pl.plot(figsize=(12,6))\n",
    "pred.plot(style='r--')"
   ]
  },
  {
   "cell_type": "markdown",
   "metadata": {
    "id": "ERqNTYeS0g7A"
   },
   "source": [
    "# **LSTM**"
   ]
  },
  {
   "cell_type": "code",
   "execution_count": 25,
   "metadata": {
    "id": "Cc_Xw58KxKQg"
   },
   "outputs": [],
   "source": [
    "import numpy as np\n",
    "import math"
   ]
  },
  {
   "cell_type": "code",
   "execution_count": 26,
   "metadata": {
    "id": "G1VVlUwJxMoR"
   },
   "outputs": [],
   "source": [
    "from tensorflow.keras.models import Sequential\n",
    "from tensorflow.keras.layers import Dense\n",
    "from tensorflow.keras.layers import LSTM\n",
    "from sklearn.preprocessing import MinMaxScaler\n",
    "import tensorflow as tf"
   ]
  },
  {
   "cell_type": "code",
   "execution_count": 27,
   "metadata": {
    "id": "qAkPsi7PxOEi"
   },
   "outputs": [],
   "source": [
    "dataset=df"
   ]
  },
  {
   "cell_type": "code",
   "execution_count": 28,
   "metadata": {
    "id": "b49ph_8QxPUE"
   },
   "outputs": [],
   "source": [
    "np.random.seed(7)"
   ]
  },
  {
   "cell_type": "code",
   "execution_count": 29,
   "metadata": {
    "id": "ZICgUsTrxSNG"
   },
   "outputs": [],
   "source": [
    "dataframe = dataset\n",
    "dataset = dataframe.values\n",
    "dataset = dataset.astype('float32')"
   ]
  },
  {
   "cell_type": "code",
   "execution_count": 30,
   "metadata": {
    "colab": {
     "base_uri": "https://localhost:8080/"
    },
    "id": "Xgks6O7X1RS8",
    "outputId": "cbb1c464-7a1e-41df-e74f-4142a3bc830a"
   },
   "outputs": [
    {
     "data": {
      "text/plain": [
       "array([147.3    , 147.3    , 147.32501, ..., 424.81033, 425.59436,\n",
       "       426.19287], dtype=float32)"
      ]
     },
     "execution_count": 30,
     "metadata": {},
     "output_type": "execute_result"
    }
   ],
   "source": [
    "dataset"
   ]
  },
  {
   "cell_type": "code",
   "execution_count": 31,
   "metadata": {
    "id": "ePAENH4NxVS9"
   },
   "outputs": [],
   "source": [
    "scaler = MinMaxScaler(feature_range=(0, 1))\n",
    "dataset = scaler.fit_transform(dataset.reshape(-1, 1))"
   ]
  },
  {
   "cell_type": "code",
   "execution_count": 32,
   "metadata": {
    "colab": {
     "base_uri": "https://localhost:8080/"
    },
    "id": "u-Pkjw4i2Ot2",
    "outputId": "02b897e1-c45d-4603-a7fb-5ada1419daa8"
   },
   "outputs": [
    {
     "data": {
      "text/plain": [
       "array([[0.00232668],\n",
       "       [0.00232668],\n",
       "       [0.00235406],\n",
       "       ...,\n",
       "       [0.30617288],\n",
       "       [0.3070313 ],\n",
       "       [0.30768663]], dtype=float32)"
      ]
     },
     "execution_count": 32,
     "metadata": {},
     "output_type": "execute_result"
    }
   ],
   "source": [
    "dataset"
   ]
  },
  {
   "cell_type": "code",
   "execution_count": 33,
   "metadata": {
    "colab": {
     "base_uri": "https://localhost:8080/"
    },
    "id": "0ma-eAsvxXXX",
    "outputId": "b71bd4c5-3cec-4c5f-e9b1-b1fd3a162b80"
   },
   "outputs": [
    {
     "name": "stdout",
     "output_type": "stream",
     "text": [
      "3894 32\n"
     ]
    }
   ],
   "source": [
    "train_size = int(len(dataset) * 0.992)\n",
    "test_size = len(dataset) - train_size\n",
    "train, test = dataset[0:train_size,:], dataset[train_size:len(dataset),:]\n",
    "print(len(train), len(test))"
   ]
  },
  {
   "cell_type": "code",
   "execution_count": 34,
   "metadata": {
    "colab": {
     "base_uri": "https://localhost:8080/"
    },
    "id": "sxB9dx1vxZBK",
    "outputId": "fcb51e09-2686-4208-a97d-461f54544a8f"
   },
   "outputs": [
    {
     "data": {
      "text/plain": [
       "((3894, 1), (32, 1), (3926, 1))"
      ]
     },
     "execution_count": 34,
     "metadata": {},
     "output_type": "execute_result"
    }
   ],
   "source": [
    "train.shape, test.shape, dataset.shape"
   ]
  },
  {
   "cell_type": "code",
   "execution_count": 35,
   "metadata": {
    "id": "oPfe5SUCxdZc"
   },
   "outputs": [],
   "source": [
    "def create_dataset(dataset, look_back=1):\n",
    "    dataX, dataY = [], []\n",
    "    for i in range(len(dataset)-look_back-1):\n",
    "        a = dataset[i:(i+look_back), 0]\n",
    "        dataX.append(a)\n",
    "        dataY.append(dataset[i + look_back, 0])\n",
    "    return np.array(dataX), np.array(dataY)"
   ]
  },
  {
   "cell_type": "code",
   "execution_count": 36,
   "metadata": {
    "id": "yUrnuVU0xf50"
   },
   "outputs": [],
   "source": [
    "look_back = 1\n",
    "trainX, trainY = create_dataset(train, look_back)\n",
    "testX, testY = create_dataset(test, look_back)"
   ]
  },
  {
   "cell_type": "code",
   "execution_count": 37,
   "metadata": {
    "colab": {
     "base_uri": "https://localhost:8080/"
    },
    "id": "zefPoUch4vig",
    "outputId": "3e490cc7-d268-4fdb-ffed-88d865f19e24"
   },
   "outputs": [
    {
     "data": {
      "text/plain": [
       "array([0.00232668, 0.00235406, 0.00234857, ..., 0.30818757, 0.30887285,\n",
       "       0.30860794], dtype=float32)"
      ]
     },
     "execution_count": 37,
     "metadata": {},
     "output_type": "execute_result"
    }
   ],
   "source": [
    "trainY"
   ]
  },
  {
   "cell_type": "code",
   "execution_count": 38,
   "metadata": {
    "id": "WD85vZE5xie_"
   },
   "outputs": [],
   "source": [
    "trainX = np.reshape(trainX, (trainX.shape[0], 1, trainX.shape[1]))\n",
    "testX = np.reshape(testX, (testX.shape[0], 1, testX.shape[1]))"
   ]
  },
  {
   "cell_type": "code",
   "execution_count": 39,
   "metadata": {
    "colab": {
     "base_uri": "https://localhost:8080/"
    },
    "id": "VroKUEVW92so",
    "outputId": "3540ef58-0c55-4716-eaed-9994c9278925"
   },
   "outputs": [
    {
     "data": {
      "text/plain": [
       "array([[[0.00232668]],\n",
       "\n",
       "       [[0.00232668]],\n",
       "\n",
       "       [[0.00235406]],\n",
       "\n",
       "       ...,\n",
       "\n",
       "       [[0.30746633]],\n",
       "\n",
       "       [[0.30818757]],\n",
       "\n",
       "       [[0.30887285]]], dtype=float32)"
      ]
     },
     "execution_count": 39,
     "metadata": {},
     "output_type": "execute_result"
    }
   ],
   "source": [
    "trainX"
   ]
  },
  {
   "cell_type": "markdown",
   "metadata": {
    "id": "qJQLpulMTwR0"
   },
   "source": [
    "In order to improve the result, the Early Stopping method was used."
   ]
  },
  {
   "cell_type": "code",
   "execution_count": 40,
   "metadata": {
    "id": "A1WdnfDM0ssO"
   },
   "outputs": [],
   "source": [
    "class myCallback(tf.keras.callbacks.Callback):\n",
    "    def on_epoch_end(self, epoch, log={}):\n",
    "        if(log.get('loss')<0.00041461):\n",
    "            print(\"\\n Early Stopping!\")\n",
    "            self.model.stop_training=True\n",
    "callbacks=myCallback()"
   ]
  },
  {
   "cell_type": "markdown",
   "metadata": {
    "id": "3c-1QW8YUGDa"
   },
   "source": [
    "The LSTM model consists of 3 layers. 2 neurons in the 1st Layer, 4 neurons in the 2nd layer, and 1 neuron in the last layer. Butch's size is equal to 1, and sigmoid was used as an activator of the function."
   ]
  },
  {
   "cell_type": "code",
   "execution_count": 41,
   "metadata": {
    "colab": {
     "base_uri": "https://localhost:8080/"
    },
    "id": "vYfiwIuPxkAq",
    "outputId": "a97dafd7-92d3-4d5a-b897-604ebe979272"
   },
   "outputs": [
    {
     "name": "stdout",
     "output_type": "stream",
     "text": [
      "Epoch 1/100\n",
      "3892/3892 - 11s - loss: 0.0035 - 11s/epoch - 3ms/step\n",
      "Epoch 2/100\n",
      "3892/3892 - 8s - loss: 4.7903e-04 - 8s/epoch - 2ms/step\n",
      "Epoch 3/100\n",
      "3892/3892 - 8s - loss: 4.5837e-04 - 8s/epoch - 2ms/step\n",
      "Epoch 4/100\n",
      "3892/3892 - 7s - loss: 4.4432e-04 - 7s/epoch - 2ms/step\n",
      "Epoch 5/100\n",
      "3892/3892 - 8s - loss: 4.3983e-04 - 8s/epoch - 2ms/step\n",
      "Epoch 6/100\n",
      "3892/3892 - 8s - loss: 4.3323e-04 - 8s/epoch - 2ms/step\n",
      "Epoch 7/100\n",
      "3892/3892 - 8s - loss: 4.3844e-04 - 8s/epoch - 2ms/step\n",
      "Epoch 8/100\n",
      "3892/3892 - 8s - loss: 4.3171e-04 - 8s/epoch - 2ms/step\n",
      "Epoch 9/100\n",
      "3892/3892 - 8s - loss: 4.3311e-04 - 8s/epoch - 2ms/step\n",
      "Epoch 10/100\n",
      "3892/3892 - 8s - loss: 4.2963e-04 - 8s/epoch - 2ms/step\n",
      "Epoch 11/100\n",
      "3892/3892 - 8s - loss: 4.3680e-04 - 8s/epoch - 2ms/step\n",
      "Epoch 12/100\n",
      "3892/3892 - 8s - loss: 4.2782e-04 - 8s/epoch - 2ms/step\n",
      "Epoch 13/100\n",
      "3892/3892 - 8s - loss: 4.3125e-04 - 8s/epoch - 2ms/step\n",
      "Epoch 14/100\n",
      "3892/3892 - 8s - loss: 4.3151e-04 - 8s/epoch - 2ms/step\n",
      "Epoch 15/100\n",
      "3892/3892 - 8s - loss: 4.2770e-04 - 8s/epoch - 2ms/step\n",
      "Epoch 16/100\n",
      "3892/3892 - 7s - loss: 4.3133e-04 - 7s/epoch - 2ms/step\n",
      "Epoch 17/100\n",
      "3892/3892 - 7s - loss: 4.2794e-04 - 7s/epoch - 2ms/step\n",
      "Epoch 18/100\n",
      "3892/3892 - 7s - loss: 4.3152e-04 - 7s/epoch - 2ms/step\n",
      "Epoch 19/100\n",
      "3892/3892 - 7s - loss: 4.3319e-04 - 7s/epoch - 2ms/step\n",
      "Epoch 20/100\n",
      "3892/3892 - 7s - loss: 4.2737e-04 - 7s/epoch - 2ms/step\n",
      "Epoch 21/100\n",
      "3892/3892 - 7s - loss: 4.2972e-04 - 7s/epoch - 2ms/step\n",
      "Epoch 22/100\n",
      "3892/3892 - 8s - loss: 4.2354e-04 - 8s/epoch - 2ms/step\n",
      "Epoch 23/100\n",
      "3892/3892 - 8s - loss: 4.2611e-04 - 8s/epoch - 2ms/step\n",
      "Epoch 24/100\n",
      "3892/3892 - 7s - loss: 4.2974e-04 - 7s/epoch - 2ms/step\n",
      "Epoch 25/100\n",
      "3892/3892 - 8s - loss: 4.2678e-04 - 8s/epoch - 2ms/step\n",
      "Epoch 26/100\n",
      "3892/3892 - 8s - loss: 4.2542e-04 - 8s/epoch - 2ms/step\n",
      "Epoch 27/100\n",
      "3892/3892 - 7s - loss: 4.2849e-04 - 7s/epoch - 2ms/step\n",
      "Epoch 28/100\n",
      "3892/3892 - 7s - loss: 4.2715e-04 - 7s/epoch - 2ms/step\n",
      "Epoch 29/100\n",
      "3892/3892 - 7s - loss: 4.2488e-04 - 7s/epoch - 2ms/step\n",
      "Epoch 30/100\n",
      "3892/3892 - 7s - loss: 4.2739e-04 - 7s/epoch - 2ms/step\n",
      "Epoch 31/100\n",
      "3892/3892 - 7s - loss: 4.2750e-04 - 7s/epoch - 2ms/step\n",
      "Epoch 32/100\n",
      "3892/3892 - 8s - loss: 4.2408e-04 - 8s/epoch - 2ms/step\n",
      "Epoch 33/100\n",
      "3892/3892 - 8s - loss: 4.3062e-04 - 8s/epoch - 2ms/step\n",
      "Epoch 34/100\n",
      "3892/3892 - 7s - loss: 4.2653e-04 - 7s/epoch - 2ms/step\n",
      "Epoch 35/100\n",
      "3892/3892 - 7s - loss: 4.2826e-04 - 7s/epoch - 2ms/step\n",
      "Epoch 36/100\n",
      "3892/3892 - 7s - loss: 4.2096e-04 - 7s/epoch - 2ms/step\n",
      "Epoch 37/100\n",
      "3892/3892 - 8s - loss: 4.2153e-04 - 8s/epoch - 2ms/step\n",
      "Epoch 38/100\n",
      "3892/3892 - 7s - loss: 4.2390e-04 - 7s/epoch - 2ms/step\n",
      "Epoch 39/100\n",
      "3892/3892 - 8s - loss: 4.2472e-04 - 8s/epoch - 2ms/step\n",
      "Epoch 40/100\n",
      "3892/3892 - 8s - loss: 4.2442e-04 - 8s/epoch - 2ms/step\n",
      "Epoch 41/100\n",
      "3892/3892 - 8s - loss: 4.2713e-04 - 8s/epoch - 2ms/step\n",
      "Epoch 42/100\n",
      "3892/3892 - 8s - loss: 4.1719e-04 - 8s/epoch - 2ms/step\n",
      "Epoch 43/100\n",
      "3892/3892 - 7s - loss: 4.2335e-04 - 7s/epoch - 2ms/step\n",
      "Epoch 44/100\n",
      "3892/3892 - 7s - loss: 4.2072e-04 - 7s/epoch - 2ms/step\n",
      "Epoch 45/100\n",
      "3892/3892 - 8s - loss: 4.2507e-04 - 8s/epoch - 2ms/step\n",
      "Epoch 46/100\n",
      "3892/3892 - 7s - loss: 4.1906e-04 - 7s/epoch - 2ms/step\n",
      "Epoch 47/100\n",
      "3892/3892 - 8s - loss: 4.2377e-04 - 8s/epoch - 2ms/step\n",
      "Epoch 48/100\n",
      "3892/3892 - 8s - loss: 4.2088e-04 - 8s/epoch - 2ms/step\n",
      "Epoch 49/100\n",
      "3892/3892 - 7s - loss: 4.1713e-04 - 7s/epoch - 2ms/step\n",
      "Epoch 50/100\n",
      "3892/3892 - 8s - loss: 4.2593e-04 - 8s/epoch - 2ms/step\n",
      "Epoch 51/100\n",
      "3892/3892 - 7s - loss: 4.2296e-04 - 7s/epoch - 2ms/step\n",
      "Epoch 52/100\n",
      "3892/3892 - 8s - loss: 4.2365e-04 - 8s/epoch - 2ms/step\n",
      "Epoch 53/100\n",
      "3892/3892 - 8s - loss: 4.1941e-04 - 8s/epoch - 2ms/step\n",
      "Epoch 54/100\n",
      "3892/3892 - 8s - loss: 4.2672e-04 - 8s/epoch - 2ms/step\n",
      "Epoch 55/100\n",
      "3892/3892 - 8s - loss: 4.1823e-04 - 8s/epoch - 2ms/step\n",
      "Epoch 56/100\n",
      "3892/3892 - 8s - loss: 4.2241e-04 - 8s/epoch - 2ms/step\n",
      "Epoch 57/100\n",
      "3892/3892 - 8s - loss: 4.2152e-04 - 8s/epoch - 2ms/step\n",
      "Epoch 58/100\n",
      "3892/3892 - 8s - loss: 4.1951e-04 - 8s/epoch - 2ms/step\n",
      "Epoch 59/100\n",
      "3892/3892 - 7s - loss: 4.2150e-04 - 7s/epoch - 2ms/step\n",
      "Epoch 60/100\n",
      "3892/3892 - 8s - loss: 4.2262e-04 - 8s/epoch - 2ms/step\n",
      "Epoch 61/100\n",
      "3892/3892 - 8s - loss: 4.1988e-04 - 8s/epoch - 2ms/step\n",
      "Epoch 62/100\n",
      "3892/3892 - 8s - loss: 4.2044e-04 - 8s/epoch - 2ms/step\n",
      "Epoch 63/100\n",
      "3892/3892 - 8s - loss: 4.2145e-04 - 8s/epoch - 2ms/step\n",
      "Epoch 64/100\n",
      "3892/3892 - 8s - loss: 4.2183e-04 - 8s/epoch - 2ms/step\n",
      "Epoch 65/100\n",
      "3892/3892 - 8s - loss: 4.1902e-04 - 8s/epoch - 2ms/step\n",
      "Epoch 66/100\n",
      "3892/3892 - 8s - loss: 4.1949e-04 - 8s/epoch - 2ms/step\n",
      "Epoch 67/100\n",
      "3892/3892 - 8s - loss: 4.1854e-04 - 8s/epoch - 2ms/step\n",
      "Epoch 68/100\n",
      "3892/3892 - 8s - loss: 4.1875e-04 - 8s/epoch - 2ms/step\n",
      "Epoch 69/100\n",
      "3892/3892 - 8s - loss: 4.1765e-04 - 8s/epoch - 2ms/step\n",
      "Epoch 70/100\n",
      "3892/3892 - 7s - loss: 4.1704e-04 - 7s/epoch - 2ms/step\n",
      "Epoch 71/100\n",
      "3892/3892 - 7s - loss: 4.2264e-04 - 7s/epoch - 2ms/step\n",
      "Epoch 72/100\n",
      "3892/3892 - 8s - loss: 4.1599e-04 - 8s/epoch - 2ms/step\n",
      "Epoch 73/100\n",
      "3892/3892 - 7s - loss: 4.1913e-04 - 7s/epoch - 2ms/step\n",
      "Epoch 74/100\n",
      "3892/3892 - 7s - loss: 4.2138e-04 - 7s/epoch - 2ms/step\n",
      "Epoch 75/100\n",
      "3892/3892 - 7s - loss: 4.1930e-04 - 7s/epoch - 2ms/step\n",
      "Epoch 76/100\n",
      "3892/3892 - 7s - loss: 4.1774e-04 - 7s/epoch - 2ms/step\n",
      "Epoch 77/100\n",
      "3892/3892 - 7s - loss: 4.1704e-04 - 7s/epoch - 2ms/step\n",
      "Epoch 78/100\n",
      "3892/3892 - 7s - loss: 4.1926e-04 - 7s/epoch - 2ms/step\n",
      "Epoch 79/100\n",
      "3892/3892 - 7s - loss: 4.1626e-04 - 7s/epoch - 2ms/step\n",
      "Epoch 80/100\n",
      "3892/3892 - 7s - loss: 4.1744e-04 - 7s/epoch - 2ms/step\n",
      "Epoch 81/100\n",
      "3892/3892 - 7s - loss: 4.1807e-04 - 7s/epoch - 2ms/step\n",
      "Epoch 82/100\n",
      "3892/3892 - 7s - loss: 4.1872e-04 - 7s/epoch - 2ms/step\n",
      "Epoch 83/100\n",
      "3892/3892 - 7s - loss: 4.1635e-04 - 7s/epoch - 2ms/step\n",
      "Epoch 84/100\n",
      "3892/3892 - 8s - loss: 4.1947e-04 - 8s/epoch - 2ms/step\n",
      "Epoch 85/100\n",
      "3892/3892 - 7s - loss: 4.1467e-04 - 7s/epoch - 2ms/step\n",
      "Epoch 86/100\n",
      "3892/3892 - 7s - loss: 4.1914e-04 - 7s/epoch - 2ms/step\n",
      "Epoch 87/100\n",
      "3892/3892 - 8s - loss: 4.2164e-04 - 8s/epoch - 2ms/step\n",
      "Epoch 88/100\n",
      "3892/3892 - 7s - loss: 4.1865e-04 - 7s/epoch - 2ms/step\n",
      "Epoch 89/100\n",
      "3892/3892 - 7s - loss: 4.1891e-04 - 7s/epoch - 2ms/step\n",
      "Epoch 90/100\n",
      "\n",
      " Early Stopping!\n",
      "3892/3892 - 7s - loss: 4.1288e-04 - 7s/epoch - 2ms/step\n"
     ]
    },
    {
     "data": {
      "text/plain": [
       "<keras.callbacks.History at 0x7ffa1e0f78d0>"
      ]
     },
     "execution_count": 41,
     "metadata": {},
     "output_type": "execute_result"
    }
   ],
   "source": [
    "model = Sequential()\n",
    "model.add(LSTM(2, input_shape=(1, look_back), return_sequences=True))\n",
    "model.add(LSTM(4, return_sequences=True))\n",
    "model.add(Dense(1))\n",
    "model.compile(loss='mean_squared_error', optimizer='adam')\n",
    "model.fit(trainX, trainY, epochs=100, batch_size=1, verbose=2, callbacks=[callbacks])"
   ]
  },
  {
   "cell_type": "code",
   "execution_count": 42,
   "metadata": {
    "id": "yM2nVxM4MP-Y"
   },
   "outputs": [],
   "source": [
    "# make predictions\n",
    "trainPredict = model.predict(trainX)\n",
    "testPredict = model.predict(testX)"
   ]
  },
  {
   "cell_type": "code",
   "execution_count": 43,
   "metadata": {
    "colab": {
     "base_uri": "https://localhost:8080/"
    },
    "id": "xRmcCcPK345E",
    "outputId": "f14a8752-f6cd-4dd7-b893-9075fe15775f"
   },
   "outputs": [
    {
     "data": {
      "text/plain": [
       "((3892, 1, 1), (30, 1, 1))"
      ]
     },
     "execution_count": 43,
     "metadata": {},
     "output_type": "execute_result"
    }
   ],
   "source": [
    "trainPredict.shape, testPredict.shape"
   ]
  },
  {
   "cell_type": "markdown",
   "metadata": {
    "id": "dSk4jpu8VWsz"
   },
   "source": [
    "Since the forecast size is (3892, 1, 1), I bring it to (3892, 1)"
   ]
  },
  {
   "cell_type": "code",
   "execution_count": 44,
   "metadata": {
    "id": "pA4uu6pnMRbK"
   },
   "outputs": [],
   "source": [
    "nsamples, nx, ny = trainPredict.shape\n",
    "trainPredict = trainPredict.reshape((nsamples,nx*ny))\n",
    "nsamples, nx, ny = testPredict.shape\n",
    "testPredict = testPredict.reshape((nsamples,nx*ny))"
   ]
  },
  {
   "cell_type": "code",
   "execution_count": 45,
   "metadata": {
    "id": "E2wAIMo2kqp9"
   },
   "outputs": [],
   "source": [
    "trainPredict = scaler.inverse_transform(trainPredict)\n",
    "testPredict = scaler.inverse_transform(testPredict)"
   ]
  },
  {
   "cell_type": "markdown",
   "metadata": {
    "id": "tqthSB2WV7GU"
   },
   "source": [
    "Checking metrics"
   ]
  },
  {
   "cell_type": "code",
   "execution_count": 48,
   "metadata": {
    "colab": {
     "base_uri": "https://localhost:8080/"
    },
    "id": "11Ke9lv0B24V",
    "outputId": "2c8ec4c2-f846-4be9-ce63-149b9f8439b5"
   },
   "outputs": [
    {
     "name": "stdout",
     "output_type": "stream",
     "text": [
      "Train Score: 294.72 RMSE\n",
      "Test Score: 421.99 RMSE\n",
      "Train Score: 86857.90 MSE\n",
      "Test Score: 178074.39 MSE\n",
      "Train Score: 274.72 MAE\n",
      "Test Score: 421.99 MAE\n"
     ]
    }
   ],
   "source": [
    "trainScore = math.sqrt(mean_squared_error(trainY, trainPredict[:,0]))\n",
    "print('Train Score: %.2f RMSE' % (trainScore))\n",
    "testScore = math.sqrt(mean_squared_error(testY, testPredict[:,0]))\n",
    "print('Test Score: %.2f RMSE' % (testScore))\n",
    "trainScore = mean_squared_error(trainY, trainPredict[:,0])\n",
    "print('Train Score: %.2f MSE' % (trainScore))\n",
    "testScore = mean_squared_error(testY, testPredict[:,0])\n",
    "print('Test Score: %.2f MSE' % (testScore))\n",
    "trainScore = mean_absolute_error(trainY, trainPredict[:,0])\n",
    "print('Train Score: %.2f MAE' % (trainScore))\n",
    "testScore = mean_absolute_error(testY, testPredict[:,0])\n",
    "print('Test Score: %.2f MAE' % (testScore))"
   ]
  },
  {
   "cell_type": "code",
   "execution_count": 49,
   "metadata": {
    "colab": {
     "base_uri": "https://localhost:8080/",
     "height": 265
    },
    "id": "-4BrzTV-z7AD",
    "outputId": "c6385819-344e-44b5-f187-dea7ef34f741"
   },
   "outputs": [
    {
     "data": {
      "image/png": "[encoded data removed]",
      "text/plain": [
       "<Figure size 432x288 with 1 Axes>"
      ]
     },
     "metadata": {
      "needs_background": "light"
     },
     "output_type": "display_data"
    }
   ],
   "source": [
    "trainPredictPlot = np.empty_like(dataset)\n",
    "trainPredictPlot[:, :] = np.nan\n",
    "trainPredictPlot[look_back:len(trainPredict)+look_back, :] = trainPredict\n",
    "testPredictPlot = np.empty_like(dataset)\n",
    "testPredictPlot[:, :] = np.nan\n",
    "testPredictPlot[len(trainPredict)+(look_back*2)+1:len(dataset)-1, :] = testPredict\n",
    "plt.plot(scaler.inverse_transform(dataset))\n",
    "plt.plot(trainPredictPlot)\n",
    "plt.plot(testPredictPlot)\n",
    "plt.show()"
   ]
  },
  {
   "cell_type": "code",
   "execution_count": 50,
   "metadata": {
    "colab": {
     "base_uri": "https://localhost:8080/"
    },
    "id": "WlEdlQxnz9BQ",
    "outputId": "e7116849-5ef2-40d5-d79a-63e349145a14"
   },
   "outputs": [
    {
     "data": {
      "text/plain": [
       "((3892, 1), (30, 1))"
      ]
     },
     "execution_count": 50,
     "metadata": {},
     "output_type": "execute_result"
    }
   ],
   "source": [
    "trainPredict.shape, testPredict.shape"
   ]
  },
  {
   "cell_type": "code",
   "execution_count": 51,
   "metadata": {
    "colab": {
     "base_uri": "https://localhost:8080/"
    },
    "id": "VF_yU8Zn4o02",
    "outputId": "f7b3a588-3716-49e8-f165-5b8191f9c7bf"
   },
   "outputs": [
    {
     "data": {
      "text/plain": [
       "array([[423.61743],\n",
       "       [422.80624],\n",
       "       [422.667  ],\n",
       "       [421.7533 ],\n",
       "       [421.9688 ],\n",
       "       [421.6984 ],\n",
       "       [421.69354],\n",
       "       [421.90002],\n",
       "       [422.80225],\n",
       "       [422.6788 ],\n",
       "       [422.78485],\n",
       "       [422.76367],\n",
       "       [422.47867],\n",
       "       [422.47867],\n",
       "       [422.86942],\n",
       "       [422.69904],\n",
       "       [422.69827],\n",
       "       [422.11304],\n",
       "       [421.95807],\n",
       "       [421.9015 ],\n",
       "       [421.69788],\n",
       "       [423.31204],\n",
       "       [422.85767],\n",
       "       [422.22122],\n",
       "       [421.86023],\n",
       "       [422.01367],\n",
       "       [421.9606 ],\n",
       "       [421.86295],\n",
       "       [421.34872],\n",
       "       [421.39795]], dtype=float32)"
      ]
     },
     "execution_count": 51,
     "metadata": {},
     "output_type": "execute_result"
    }
   ],
   "source": [
    "testPredict"
   ]
  },
  {
   "cell_type": "code",
   "execution_count": 52,
   "metadata": {
    "id": "1SrKtFgfz_Od"
   },
   "outputs": [],
   "source": [
    "import pandas as pd\n",
    "tt=pd.DataFrame(data=testPredict,\n",
    "          index=df[3896:].index)"
   ]
  },
  {
   "cell_type": "code",
   "execution_count": 53,
   "metadata": {
    "colab": {
     "base_uri": "https://localhost:8080/",
     "height": 1000
    },
    "id": "0W7-r3Zj0Arc",
    "outputId": "9a8eae02-ba99-4ff1-e1d9-9f547934aaed"
   },
   "outputs": [
    {
     "data": {
      "text/html": [
       "\n",
       "  <div id=\"df-53439ca6-bc32-4704-a236-dbac685ea401\">\n",
       "    <div class=\"colab-df-container\">\n",
       "      <div>\n",
       "<style scoped>\n",
       "    .dataframe tbody tr th:only-of-type {\n",
       "        vertical-align: middle;\n",
       "    }\n",
       "\n",
       "    .dataframe tbody tr th {\n",
       "        vertical-align: top;\n",
       "    }\n",
       "\n",
       "    .dataframe thead th {\n",
       "        text-align: right;\n",
       "    }\n",
       "</style>\n",
       "<table border=\"1\" class=\"dataframe\">\n",
       "  <thead>\n",
       "    <tr style=\"text-align: right;\">\n",
       "      <th></th>\n",
       "      <th>0</th>\n",
       "    </tr>\n",
       "    <tr>\n",
       "      <th>date(y-m-d)</th>\n",
       "      <th></th>\n",
       "    </tr>\n",
       "  </thead>\n",
       "  <tbody>\n",
       "    <tr>\n",
       "      <th>2021-09-01</th>\n",
       "      <td>423.617432</td>\n",
       "    </tr>\n",
       "    <tr>\n",
       "      <th>2021-09-02</th>\n",
       "      <td>422.806244</td>\n",
       "    </tr>\n",
       "    <tr>\n",
       "      <th>2021-09-03</th>\n",
       "      <td>422.666992</td>\n",
       "    </tr>\n",
       "    <tr>\n",
       "      <th>2021-09-04</th>\n",
       "      <td>421.753296</td>\n",
       "    </tr>\n",
       "    <tr>\n",
       "      <th>2021-09-05</th>\n",
       "      <td>421.968811</td>\n",
       "    </tr>\n",
       "    <tr>\n",
       "      <th>2021-09-06</th>\n",
       "      <td>421.698395</td>\n",
       "    </tr>\n",
       "    <tr>\n",
       "      <th>2021-09-07</th>\n",
       "      <td>421.693542</td>\n",
       "    </tr>\n",
       "    <tr>\n",
       "      <th>2021-09-08</th>\n",
       "      <td>421.900024</td>\n",
       "    </tr>\n",
       "    <tr>\n",
       "      <th>2021-09-09</th>\n",
       "      <td>422.802246</td>\n",
       "    </tr>\n",
       "    <tr>\n",
       "      <th>2021-09-10</th>\n",
       "      <td>422.678802</td>\n",
       "    </tr>\n",
       "    <tr>\n",
       "      <th>2021-09-11</th>\n",
       "      <td>422.784851</td>\n",
       "    </tr>\n",
       "    <tr>\n",
       "      <th>2021-09-12</th>\n",
       "      <td>422.763672</td>\n",
       "    </tr>\n",
       "    <tr>\n",
       "      <th>2021-09-13</th>\n",
       "      <td>422.478668</td>\n",
       "    </tr>\n",
       "    <tr>\n",
       "      <th>2021-09-14</th>\n",
       "      <td>422.478668</td>\n",
       "    </tr>\n",
       "    <tr>\n",
       "      <th>2021-09-15</th>\n",
       "      <td>422.869415</td>\n",
       "    </tr>\n",
       "    <tr>\n",
       "      <th>2021-09-16</th>\n",
       "      <td>422.699036</td>\n",
       "    </tr>\n",
       "    <tr>\n",
       "      <th>2021-09-17</th>\n",
       "      <td>422.698273</td>\n",
       "    </tr>\n",
       "    <tr>\n",
       "      <th>2021-09-18</th>\n",
       "      <td>422.113037</td>\n",
       "    </tr>\n",
       "    <tr>\n",
       "      <th>2021-09-19</th>\n",
       "      <td>421.958069</td>\n",
       "    </tr>\n",
       "    <tr>\n",
       "      <th>2021-09-20</th>\n",
       "      <td>421.901489</td>\n",
       "    </tr>\n",
       "    <tr>\n",
       "      <th>2021-09-21</th>\n",
       "      <td>421.697876</td>\n",
       "    </tr>\n",
       "    <tr>\n",
       "      <th>2021-09-22</th>\n",
       "      <td>423.312042</td>\n",
       "    </tr>\n",
       "    <tr>\n",
       "      <th>2021-09-23</th>\n",
       "      <td>422.857666</td>\n",
       "    </tr>\n",
       "    <tr>\n",
       "      <th>2021-09-24</th>\n",
       "      <td>422.221222</td>\n",
       "    </tr>\n",
       "    <tr>\n",
       "      <th>2021-09-25</th>\n",
       "      <td>421.860229</td>\n",
       "    </tr>\n",
       "    <tr>\n",
       "      <th>2021-09-26</th>\n",
       "      <td>422.013672</td>\n",
       "    </tr>\n",
       "    <tr>\n",
       "      <th>2021-09-27</th>\n",
       "      <td>421.960602</td>\n",
       "    </tr>\n",
       "    <tr>\n",
       "      <th>2021-09-28</th>\n",
       "      <td>421.862946</td>\n",
       "    </tr>\n",
       "    <tr>\n",
       "      <th>2021-09-29</th>\n",
       "      <td>421.348724</td>\n",
       "    </tr>\n",
       "    <tr>\n",
       "      <th>2021-09-30</th>\n",
       "      <td>421.397949</td>\n",
       "    </tr>\n",
       "  </tbody>\n",
       "</table>\n",
       "</div>\n",
       "      <button class=\"colab-df-convert\" onclick=\"convertToInteractive('df-53439ca6-bc32-4704-a236-dbac685ea401')\"\n",
       "              title=\"Convert this dataframe to an interactive table.\"\n",
       "              style=\"display:none;\">\n",
       "        \n",
       "  <svg xmlns=\"http://www.w3.org/2000/svg\" height=\"24px\"viewBox=\"0 0 24 24\"\n",
       "       width=\"24px\">\n",
       "    <path d=\"M0 0h24v24H0V0z\" fill=\"none\"/>\n",
       "    <path d=\"M18.56 5.44l.94 2.06.94-2.06 2.06-.94-2.06-.94-.94-2.06-.94 2.06-2.06.94zm-11 1L8.5 8.5l.94-2.06 2.06-.94-2.06-.94L8.5 2.5l-.94 2.06-2.06.94zm10 10l.94 2.06.94-2.06 2.06-.94-2.06-.94-.94-2.06-.94 2.06-2.06.94z\"/><path d=\"M17.41 7.96l-1.37-1.37c-.4-.4-.92-.59-1.43-.59-.52 0-1.04.2-1.43.59L10.3 9.45l-7.72 7.72c-.78.78-.78 2.05 0 2.83L4 21.41c.39.39.9.59 1.41.59.51 0 1.02-.2 1.41-.59l7.78-7.78 2.81-2.81c.8-.78.8-2.07 0-2.86zM5.41 20L4 18.59l7.72-7.72 1.47 1.35L5.41 20z\"/>\n",
       "  </svg>\n",
       "      </button>\n",
       "      \n",
       "  <style>\n",
       "    .colab-df-container {\n",
       "      display:flex;\n",
       "      flex-wrap:wrap;\n",
       "      gap: 12px;\n",
       "    }\n",
       "\n",
       "    .colab-df-convert {\n",
       "      background-color: #E8F0FE;\n",
       "      border: none;\n",
       "      border-radius: 50%;\n",
       "      cursor: pointer;\n",
       "      display: none;\n",
       "      fill: #1967D2;\n",
       "      height: 32px;\n",
       "      padding: 0 0 0 0;\n",
       "      width: 32px;\n",
       "    }\n",
       "\n",
       "    .colab-df-convert:hover {\n",
       "      background-color: #E2EBFA;\n",
       "      box-shadow: 0px 1px 2px rgba(60, 64, 67, 0.3), 0px 1px 3px 1px rgba(60, 64, 67, 0.15);\n",
       "      fill: #174EA6;\n",
       "    }\n",
       "\n",
       "    [theme=dark] .colab-df-convert {\n",
       "      background-color: #3B4455;\n",
       "      fill: #D2E3FC;\n",
       "    }\n",
       "\n",
       "    [theme=dark] .colab-df-convert:hover {\n",
       "      background-color: #434B5C;\n",
       "      box-shadow: 0px 1px 3px 1px rgba(0, 0, 0, 0.15);\n",
       "      filter: drop-shadow(0px 1px 2px rgba(0, 0, 0, 0.3));\n",
       "      fill: #FFFFFF;\n",
       "    }\n",
       "  </style>\n",
       "\n",
       "      <script>\n",
       "        const buttonEl =\n",
       "          document.querySelector('#df-53439ca6-bc32-4704-a236-dbac685ea401 button.colab-df-convert');\n",
       "        buttonEl.style.display =\n",
       "          google.colab.kernel.accessAllowed ? 'block' : 'none';\n",
       "\n",
       "        async function convertToInteractive(key) {\n",
       "          const element = document.querySelector('#df-53439ca6-bc32-4704-a236-dbac685ea401');\n",
       "          const dataTable =\n",
       "            await google.colab.kernel.invokeFunction('convertToInteractive',\n",
       "                                                     [key], {});\n",
       "          if (!dataTable) return;\n",
       "\n",
       "          const docLinkHtml = 'Like what you see? Visit the ' +\n",
       "            '<a target=\"_blank\" href=https://colab.research.google.com/notebooks/data_table.ipynb>data table notebook</a>'\n",
       "            + ' to learn more about interactive tables.';\n",
       "          element.innerHTML = '';\n",
       "          dataTable['output_type'] = 'display_data';\n",
       "          await google.colab.output.renderOutput(dataTable, element);\n",
       "          const docLink = document.createElement('div');\n",
       "          docLink.innerHTML = docLinkHtml;\n",
       "          element.appendChild(docLink);\n",
       "        }\n",
       "      </script>\n",
       "    </div>\n",
       "  </div>\n",
       "  "
      ],
      "text/plain": [
       "                      0\n",
       "date(y-m-d)            \n",
       "2021-09-01   423.617432\n",
       "2021-09-02   422.806244\n",
       "2021-09-03   422.666992\n",
       "2021-09-04   421.753296\n",
       "2021-09-05   421.968811\n",
       "2021-09-06   421.698395\n",
       "2021-09-07   421.693542\n",
       "2021-09-08   421.900024\n",
       "2021-09-09   422.802246\n",
       "2021-09-10   422.678802\n",
       "2021-09-11   422.784851\n",
       "2021-09-12   422.763672\n",
       "2021-09-13   422.478668\n",
       "2021-09-14   422.478668\n",
       "2021-09-15   422.869415\n",
       "2021-09-16   422.699036\n",
       "2021-09-17   422.698273\n",
       "2021-09-18   422.113037\n",
       "2021-09-19   421.958069\n",
       "2021-09-20   421.901489\n",
       "2021-09-21   421.697876\n",
       "2021-09-22   423.312042\n",
       "2021-09-23   422.857666\n",
       "2021-09-24   422.221222\n",
       "2021-09-25   421.860229\n",
       "2021-09-26   422.013672\n",
       "2021-09-27   421.960602\n",
       "2021-09-28   421.862946\n",
       "2021-09-29   421.348724\n",
       "2021-09-30   421.397949"
      ]
     },
     "execution_count": 53,
     "metadata": {},
     "output_type": "execute_result"
    }
   ],
   "source": [
    "tt"
   ]
  },
  {
   "cell_type": "code",
   "execution_count": 54,
   "metadata": {
    "colab": {
     "base_uri": "https://localhost:8080/",
     "height": 374
    },
    "id": "Oqm6aTjK0C13",
    "outputId": "454038f8-9768-4bde-ca2f-fadc00c339c6"
   },
   "outputs": [
    {
     "data": {
      "image/png": "[encoded data removed]",
      "text/plain": [
       "<Figure size 1080x432 with 1 Axes>"
      ]
     },
     "metadata": {
      "needs_background": "light"
     },
     "output_type": "display_data"
    }
   ],
   "source": [
    "plt.figure(figsize=(15,6))\n",
    "plt.plot(tt, 'g', label='Prediction')\n",
    "plt.plot(df[3896:], 'r', label='True')\n",
    "plt.legend()\n",
    "plt.show()"
   ]
  },
  {
   "cell_type": "markdown",
   "metadata": {
    "id": "rTi419y_WP2B"
   },
   "source": [
    "# **XGBoost**"
   ]
  },
  {
   "cell_type": "code",
   "execution_count": 55,
   "metadata": {
    "id": "mt0W3rH5XB9v"
   },
   "outputs": [],
   "source": [
    "from numpy import asarray\n",
    "from pandas import concat\n",
    "from sklearn.metrics import mean_absolute_error\n",
    "from xgboost import XGBRegressor\n",
    "from matplotlib import pyplot"
   ]
  },
  {
   "cell_type": "code",
   "execution_count": 56,
   "metadata": {
    "id": "X4DqtKt00GhZ"
   },
   "outputs": [],
   "source": [
    "ser=df\n",
    "values=ser.values"
   ]
  },
  {
   "cell_type": "code",
   "execution_count": 57,
   "metadata": {
    "id": "j5gzJaOyWK4z"
   },
   "outputs": [],
   "source": [
    "def series_to_supervised(data, n_in=1, n_out=1, dropnan=True):\n",
    "    n_vars = 1 if type(data) is list else data.shape[0]\n",
    "    df = DataFrame(data)\n",
    "    cols = list()\n",
    "    for i in range(n_in, 0, -1):\n",
    "        cols.append(df.shift(i))\n",
    "    for i in range(0, n_out):\n",
    "        cols.append(df.shift(-i))\n",
    "    agg = concat(cols, axis=1)\n",
    "    if dropnan:\n",
    "        agg.dropna(inplace=True)\n",
    "    return agg.values"
   ]
  },
  {
   "cell_type": "code",
   "execution_count": 58,
   "metadata": {
    "id": "PK-K8sh-WK70"
   },
   "outputs": [],
   "source": [
    "def walk_forward_validation(data, n_test):\n",
    "    predictions = list()\n",
    "    train, test = train_test_split(data, n_test)\n",
    "    history = [x for x in train]\n",
    "    for i in range(len(test)):\n",
    "        testX, testy = test[i, :-1], test[i, -1]\n",
    "        yhat = xgboost_forecast(history, testX)\n",
    "        predictions.append(yhat)\n",
    "        history.append(test[i])\n",
    "        print('>True=%.1f, Prediction=%.1f' % (testy, yhat))\n",
    "    error = mean_absolute_error(test[:, -1], predictions)\n",
    "    return error, test[:, 1], predictions"
   ]
  },
  {
   "cell_type": "code",
   "execution_count": 59,
   "metadata": {
    "id": "slPpHDM5WK-y"
   },
   "outputs": [],
   "source": [
    "def train_test_split(data, n_test):\n",
    "\treturn data[:-n_test, :], data[-n_test:, :]"
   ]
  },
  {
   "cell_type": "code",
   "execution_count": 60,
   "metadata": {
    "id": "mQTRLs2PWLBj"
   },
   "outputs": [],
   "source": [
    "def xgboost_forecast(train, testX):\n",
    "    train = asarray(train)\n",
    "    trainX, trainy = train[:, :-1], train[:, -1]\n",
    "    model = XGBRegressor(objective='reg:squarederror', n_estimators=1000)\n",
    "    model.fit(trainX, trainy)\n",
    "    yhat = model.predict([testX])\n",
    "    return yhat[0]"
   ]
  },
  {
   "cell_type": "code",
   "execution_count": 61,
   "metadata": {
    "id": "KVHi3fnnWLE7"
   },
   "outputs": [],
   "source": [
    "data = series_to_supervised(values, n_in=11)"
   ]
  },
  {
   "cell_type": "code",
   "execution_count": 62,
   "metadata": {
    "colab": {
     "base_uri": "https://localhost:8080/"
    },
    "id": "3THh06_U7C0W",
    "outputId": "25567ff3-c69d-4b0e-e791-3654dcc1bf2d"
   },
   "outputs": [
    {
     "data": {
      "text/plain": [
       "date(y-m-d)\n",
       "2011-01-01    147.300003\n",
       "2011-01-02    147.300003\n",
       "2011-01-03    147.325012\n",
       "2011-01-04    147.320007\n",
       "2011-01-05    147.075012\n",
       "                 ...    \n",
       "2021-09-26    425.333011\n",
       "2021-09-27    424.755159\n",
       "2021-09-28    424.810318\n",
       "2021-09-29    425.594367\n",
       "2021-09-30    426.192878\n",
       "Name: Kazakhstani Tenge, Length: 3926, dtype: float64"
      ]
     },
     "execution_count": 62,
     "metadata": {},
     "output_type": "execute_result"
    }
   ],
   "source": [
    "df"
   ]
  },
  {
   "cell_type": "code",
   "execution_count": 63,
   "metadata": {
    "colab": {
     "base_uri": "https://localhost:8080/"
    },
    "id": "pWLsUhPsW_ZS",
    "outputId": "06ca82a8-8778-4f03-8464-10d3fad601e1"
   },
   "outputs": [
    {
     "data": {
      "text/plain": [
       "array([[147.300003, 147.300003, 147.325012, ..., 147.149994, 147.225006,\n",
       "        147.225006],\n",
       "       [147.300003, 147.325012, 147.320007, ..., 147.225006, 147.225006,\n",
       "        147.024994],\n",
       "       [147.325012, 147.320007, 147.075012, ..., 147.225006, 147.024994,\n",
       "        146.979996],\n",
       "       ...,\n",
       "       [425.439985, 425.376411, 425.147442, ..., 425.333011, 424.755159,\n",
       "        424.810318],\n",
       "       [425.376411, 425.147442, 426.965278, ..., 424.755159, 424.810318,\n",
       "        425.594367],\n",
       "       [425.147442, 426.965278, 426.452878, ..., 424.810318, 425.594367,\n",
       "        426.192878]])"
      ]
     },
     "execution_count": 63,
     "metadata": {},
     "output_type": "execute_result"
    }
   ],
   "source": [
    "data"
   ]
  },
  {
   "cell_type": "code",
   "execution_count": 64,
   "metadata": {
    "colab": {
     "base_uri": "https://localhost:8080/"
    },
    "id": "RXlDyNuSXLh6",
    "outputId": "741b6cf4-d1c3-4863-c95c-299cbb3c74d0"
   },
   "outputs": [
    {
     "name": "stderr",
     "output_type": "stream",
     "text": [
      "/usr/local/lib/python3.7/dist-packages/xgboost/core.py:613: UserWarning: Use subset (sliced data) of np.ndarray is not recommended because it will generate extra copies and increase memory consumption\n",
      "  warnings.warn(\"Use subset (sliced data) of np.ndarray is not recommended \" +\n"
     ]
    },
    {
     "name": "stdout",
     "output_type": "stream",
     "text": [
      ">True=426.2, Prediction=426.9\n",
      ">True=425.2, Prediction=426.4\n",
      ">True=425.5, Prediction=425.1\n",
      ">True=425.1, Prediction=425.8\n",
      ">True=425.1, Prediction=425.4\n",
      ">True=425.4, Prediction=425.4\n",
      ">True=426.4, Prediction=425.4\n",
      ">True=426.3, Prediction=426.9\n",
      ">True=426.4, Prediction=426.6\n",
      ">True=426.3, Prediction=427.1\n",
      ">True=426.0, Prediction=426.4\n",
      ">True=426.0, Prediction=425.6\n",
      ">True=426.5, Prediction=425.7\n",
      ">True=426.3, Prediction=426.4\n",
      ">True=426.3, Prediction=426.3\n",
      ">True=425.6, Prediction=426.5\n",
      ">True=425.4, Prediction=425.3\n",
      ">True=425.4, Prediction=425.1\n",
      ">True=425.1, Prediction=425.0\n",
      ">True=427.0, Prediction=425.1\n",
      ">True=426.5, Prediction=427.0\n",
      ">True=425.7, Prediction=426.5\n",
      ">True=425.3, Prediction=425.9\n",
      ">True=425.5, Prediction=425.0\n",
      ">True=425.4, Prediction=424.8\n",
      ">True=425.3, Prediction=425.3\n",
      ">True=424.8, Prediction=424.9\n",
      ">True=424.8, Prediction=425.0\n",
      ">True=425.6, Prediction=425.2\n",
      ">True=426.2, Prediction=425.5\n",
      "MAE: 0.505\n"
     ]
    }
   ],
   "source": [
    "mae, y, yhat = walk_forward_validation(data, 30)\n",
    "print('MAE: %.3f' % mae)"
   ]
  },
  {
   "cell_type": "code",
   "execution_count": 66,
   "metadata": {
    "colab": {
     "base_uri": "https://localhost:8080/",
     "height": 268
    },
    "id": "9jE-TjvBXTwJ",
    "outputId": "a7b0cffd-d9c9-464f-d2b5-1adbb1041a39"
   },
   "outputs": [
    {
     "data": {
      "image/png": "[encoded data removed]",
      "text/plain": [
       "<Figure size 432x288 with 1 Axes>"
      ]
     },
     "metadata": {
      "needs_background": "light"
     },
     "output_type": "display_data"
    }
   ],
   "source": [
    "pyplot.plot(y, label='True')\n",
    "pyplot.plot(yhat, label='Prediction')\n",
    "pyplot.legend()\n",
    "pyplot.show()"
   ]
  },
  {
   "cell_type": "code",
   "execution_count": 67,
   "metadata": {
    "colab": {
     "base_uri": "https://localhost:8080/",
     "height": 1000
    },
    "id": "JPAMg9cjYMQu",
    "outputId": "b5277d2c-86f8-46aa-fc08-660c8cc3af12"
   },
   "outputs": [
    {
     "data": {
      "text/html": [
       "\n",
       "  <div id=\"df-b9d91d47-6419-423c-8915-78154e198c9a\">\n",
       "    <div class=\"colab-df-container\">\n",
       "      <div>\n",
       "<style scoped>\n",
       "    .dataframe tbody tr th:only-of-type {\n",
       "        vertical-align: middle;\n",
       "    }\n",
       "\n",
       "    .dataframe tbody tr th {\n",
       "        vertical-align: top;\n",
       "    }\n",
       "\n",
       "    .dataframe thead th {\n",
       "        text-align: right;\n",
       "    }\n",
       "</style>\n",
       "<table border=\"1\" class=\"dataframe\">\n",
       "  <thead>\n",
       "    <tr style=\"text-align: right;\">\n",
       "      <th></th>\n",
       "      <th>0</th>\n",
       "    </tr>\n",
       "    <tr>\n",
       "      <th>date(y-m-d)</th>\n",
       "      <th></th>\n",
       "    </tr>\n",
       "  </thead>\n",
       "  <tbody>\n",
       "    <tr>\n",
       "      <th>2021-09-01</th>\n",
       "      <td>423.617432</td>\n",
       "    </tr>\n",
       "    <tr>\n",
       "      <th>2021-09-02</th>\n",
       "      <td>422.806244</td>\n",
       "    </tr>\n",
       "    <tr>\n",
       "      <th>2021-09-03</th>\n",
       "      <td>422.666992</td>\n",
       "    </tr>\n",
       "    <tr>\n",
       "      <th>2021-09-04</th>\n",
       "      <td>421.753296</td>\n",
       "    </tr>\n",
       "    <tr>\n",
       "      <th>2021-09-05</th>\n",
       "      <td>421.968811</td>\n",
       "    </tr>\n",
       "    <tr>\n",
       "      <th>2021-09-06</th>\n",
       "      <td>421.698395</td>\n",
       "    </tr>\n",
       "    <tr>\n",
       "      <th>2021-09-07</th>\n",
       "      <td>421.693542</td>\n",
       "    </tr>\n",
       "    <tr>\n",
       "      <th>2021-09-08</th>\n",
       "      <td>421.900024</td>\n",
       "    </tr>\n",
       "    <tr>\n",
       "      <th>2021-09-09</th>\n",
       "      <td>422.802246</td>\n",
       "    </tr>\n",
       "    <tr>\n",
       "      <th>2021-09-10</th>\n",
       "      <td>422.678802</td>\n",
       "    </tr>\n",
       "    <tr>\n",
       "      <th>2021-09-11</th>\n",
       "      <td>422.784851</td>\n",
       "    </tr>\n",
       "    <tr>\n",
       "      <th>2021-09-12</th>\n",
       "      <td>422.763672</td>\n",
       "    </tr>\n",
       "    <tr>\n",
       "      <th>2021-09-13</th>\n",
       "      <td>422.478668</td>\n",
       "    </tr>\n",
       "    <tr>\n",
       "      <th>2021-09-14</th>\n",
       "      <td>422.478668</td>\n",
       "    </tr>\n",
       "    <tr>\n",
       "      <th>2021-09-15</th>\n",
       "      <td>422.869415</td>\n",
       "    </tr>\n",
       "    <tr>\n",
       "      <th>2021-09-16</th>\n",
       "      <td>422.699036</td>\n",
       "    </tr>\n",
       "    <tr>\n",
       "      <th>2021-09-17</th>\n",
       "      <td>422.698273</td>\n",
       "    </tr>\n",
       "    <tr>\n",
       "      <th>2021-09-18</th>\n",
       "      <td>422.113037</td>\n",
       "    </tr>\n",
       "    <tr>\n",
       "      <th>2021-09-19</th>\n",
       "      <td>421.958069</td>\n",
       "    </tr>\n",
       "    <tr>\n",
       "      <th>2021-09-20</th>\n",
       "      <td>421.901489</td>\n",
       "    </tr>\n",
       "    <tr>\n",
       "      <th>2021-09-21</th>\n",
       "      <td>421.697876</td>\n",
       "    </tr>\n",
       "    <tr>\n",
       "      <th>2021-09-22</th>\n",
       "      <td>423.312042</td>\n",
       "    </tr>\n",
       "    <tr>\n",
       "      <th>2021-09-23</th>\n",
       "      <td>422.857666</td>\n",
       "    </tr>\n",
       "    <tr>\n",
       "      <th>2021-09-24</th>\n",
       "      <td>422.221222</td>\n",
       "    </tr>\n",
       "    <tr>\n",
       "      <th>2021-09-25</th>\n",
       "      <td>421.860229</td>\n",
       "    </tr>\n",
       "    <tr>\n",
       "      <th>2021-09-26</th>\n",
       "      <td>422.013672</td>\n",
       "    </tr>\n",
       "    <tr>\n",
       "      <th>2021-09-27</th>\n",
       "      <td>421.960602</td>\n",
       "    </tr>\n",
       "    <tr>\n",
       "      <th>2021-09-28</th>\n",
       "      <td>421.862946</td>\n",
       "    </tr>\n",
       "    <tr>\n",
       "      <th>2021-09-29</th>\n",
       "      <td>421.348724</td>\n",
       "    </tr>\n",
       "    <tr>\n",
       "      <th>2021-09-30</th>\n",
       "      <td>421.397949</td>\n",
       "    </tr>\n",
       "  </tbody>\n",
       "</table>\n",
       "</div>\n",
       "      <button class=\"colab-df-convert\" onclick=\"convertToInteractive('df-b9d91d47-6419-423c-8915-78154e198c9a')\"\n",
       "              title=\"Convert this dataframe to an interactive table.\"\n",
       "              style=\"display:none;\">\n",
       "        \n",
       "  <svg xmlns=\"http://www.w3.org/2000/svg\" height=\"24px\"viewBox=\"0 0 24 24\"\n",
       "       width=\"24px\">\n",
       "    <path d=\"M0 0h24v24H0V0z\" fill=\"none\"/>\n",
       "    <path d=\"M18.56 5.44l.94 2.06.94-2.06 2.06-.94-2.06-.94-.94-2.06-.94 2.06-2.06.94zm-11 1L8.5 8.5l.94-2.06 2.06-.94-2.06-.94L8.5 2.5l-.94 2.06-2.06.94zm10 10l.94 2.06.94-2.06 2.06-.94-2.06-.94-.94-2.06-.94 2.06-2.06.94z\"/><path d=\"M17.41 7.96l-1.37-1.37c-.4-.4-.92-.59-1.43-.59-.52 0-1.04.2-1.43.59L10.3 9.45l-7.72 7.72c-.78.78-.78 2.05 0 2.83L4 21.41c.39.39.9.59 1.41.59.51 0 1.02-.2 1.41-.59l7.78-7.78 2.81-2.81c.8-.78.8-2.07 0-2.86zM5.41 20L4 18.59l7.72-7.72 1.47 1.35L5.41 20z\"/>\n",
       "  </svg>\n",
       "      </button>\n",
       "      \n",
       "  <style>\n",
       "    .colab-df-container {\n",
       "      display:flex;\n",
       "      flex-wrap:wrap;\n",
       "      gap: 12px;\n",
       "    }\n",
       "\n",
       "    .colab-df-convert {\n",
       "      background-color: #E8F0FE;\n",
       "      border: none;\n",
       "      border-radius: 50%;\n",
       "      cursor: pointer;\n",
       "      display: none;\n",
       "      fill: #1967D2;\n",
       "      height: 32px;\n",
       "      padding: 0 0 0 0;\n",
       "      width: 32px;\n",
       "    }\n",
       "\n",
       "    .colab-df-convert:hover {\n",
       "      background-color: #E2EBFA;\n",
       "      box-shadow: 0px 1px 2px rgba(60, 64, 67, 0.3), 0px 1px 3px 1px rgba(60, 64, 67, 0.15);\n",
       "      fill: #174EA6;\n",
       "    }\n",
       "\n",
       "    [theme=dark] .colab-df-convert {\n",
       "      background-color: #3B4455;\n",
       "      fill: #D2E3FC;\n",
       "    }\n",
       "\n",
       "    [theme=dark] .colab-df-convert:hover {\n",
       "      background-color: #434B5C;\n",
       "      box-shadow: 0px 1px 3px 1px rgba(0, 0, 0, 0.15);\n",
       "      filter: drop-shadow(0px 1px 2px rgba(0, 0, 0, 0.3));\n",
       "      fill: #FFFFFF;\n",
       "    }\n",
       "  </style>\n",
       "\n",
       "      <script>\n",
       "        const buttonEl =\n",
       "          document.querySelector('#df-b9d91d47-6419-423c-8915-78154e198c9a button.colab-df-convert');\n",
       "        buttonEl.style.display =\n",
       "          google.colab.kernel.accessAllowed ? 'block' : 'none';\n",
       "\n",
       "        async function convertToInteractive(key) {\n",
       "          const element = document.querySelector('#df-b9d91d47-6419-423c-8915-78154e198c9a');\n",
       "          const dataTable =\n",
       "            await google.colab.kernel.invokeFunction('convertToInteractive',\n",
       "                                                     [key], {});\n",
       "          if (!dataTable) return;\n",
       "\n",
       "          const docLinkHtml = 'Like what you see? Visit the ' +\n",
       "            '<a target=\"_blank\" href=https://colab.research.google.com/notebooks/data_table.ipynb>data table notebook</a>'\n",
       "            + ' to learn more about interactive tables.';\n",
       "          element.innerHTML = '';\n",
       "          dataTable['output_type'] = 'display_data';\n",
       "          await google.colab.output.renderOutput(dataTable, element);\n",
       "          const docLink = document.createElement('div');\n",
       "          docLink.innerHTML = docLinkHtml;\n",
       "          element.appendChild(docLink);\n",
       "        }\n",
       "      </script>\n",
       "    </div>\n",
       "  </div>\n",
       "  "
      ],
      "text/plain": [
       "                      0\n",
       "date(y-m-d)            \n",
       "2021-09-01   423.617432\n",
       "2021-09-02   422.806244\n",
       "2021-09-03   422.666992\n",
       "2021-09-04   421.753296\n",
       "2021-09-05   421.968811\n",
       "2021-09-06   421.698395\n",
       "2021-09-07   421.693542\n",
       "2021-09-08   421.900024\n",
       "2021-09-09   422.802246\n",
       "2021-09-10   422.678802\n",
       "2021-09-11   422.784851\n",
       "2021-09-12   422.763672\n",
       "2021-09-13   422.478668\n",
       "2021-09-14   422.478668\n",
       "2021-09-15   422.869415\n",
       "2021-09-16   422.699036\n",
       "2021-09-17   422.698273\n",
       "2021-09-18   422.113037\n",
       "2021-09-19   421.958069\n",
       "2021-09-20   421.901489\n",
       "2021-09-21   421.697876\n",
       "2021-09-22   423.312042\n",
       "2021-09-23   422.857666\n",
       "2021-09-24   422.221222\n",
       "2021-09-25   421.860229\n",
       "2021-09-26   422.013672\n",
       "2021-09-27   421.960602\n",
       "2021-09-28   421.862946\n",
       "2021-09-29   421.348724\n",
       "2021-09-30   421.397949"
      ]
     },
     "execution_count": 67,
     "metadata": {},
     "output_type": "execute_result"
    }
   ],
   "source": [
    "tt"
   ]
  },
  {
   "cell_type": "code",
   "execution_count": 68,
   "metadata": {
    "id": "7mKS3JLGYw3X"
   },
   "outputs": [],
   "source": [
    "import pandas as pd\n",
    "ff=pd.DataFrame(data=yhat,\n",
    "          index=df[3896:].index)"
   ]
  },
  {
   "cell_type": "code",
   "execution_count": 69,
   "metadata": {
    "colab": {
     "base_uri": "https://localhost:8080/",
     "height": 374
    },
    "id": "QfPdYACjYw6g",
    "outputId": "0cfde2db-b64e-4260-c196-018e8b67989d"
   },
   "outputs": [
    {
     "data": {
      "image/png": "[encoded data removed]",
      "text/plain": [
       "<Figure size 1080x432 with 1 Axes>"
      ]
     },
     "metadata": {
      "needs_background": "light"
     },
     "output_type": "display_data"
    }
   ],
   "source": [
    "plt.figure(figsize=(15,6))\n",
    "plt.plot(tt, 'g', label='LSTM')\n",
    "plt.plot(ff, 'r', label='XGBoost')\n",
    "plt.plot(pred, 'y', label='SARIMA')\n",
    "# Plot another line on the same chart/graph\n",
    "plt.plot(df[3896:], 'b', label='True')\n",
    "\n",
    "plt.legend()\n",
    "plt.show()"
   ]
  },
  {
   "cell_type": "code",
   "execution_count": null,
   "metadata": {
    "id": "ZtJrq55UZFJj"
   },
   "outputs": [],
   "source": []
  }
 ],
 "metadata": {
  "colab": {
   "collapsed_sections": [],
   "name": "Time series_Dollar price prediction.ipynb",
   "provenance": []
  },
  "kernelspec": {
   "display_name": "Python 3",
   "language": "python",
   "name": "python3"
  },
  "language_info": {
   "codemirror_mode": {
    "name": "ipython",
    "version": 3
   },
   "file_extension": ".py",
   "mimetype": "text/x-python",
   "name": "python",
   "nbconvert_exporter": "python",
   "pygments_lexer": "ipython3",
   "version": "3.8.8"
  }
 },
 "nbformat": 4,
 "nbformat_minor": 1
}
